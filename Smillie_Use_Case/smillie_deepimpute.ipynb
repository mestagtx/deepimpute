{
 "cells": [
  {
   "cell_type": "markdown",
   "metadata": {
    "tags": []
   },
   "source": [
    "# Single-cell RNA-seq imputation using DeepImpute\n",
    "\n",
    "Here is a comprehensive tutorial to understand the functionnalities of DeepImpute."
   ]
  },
  {
   "cell_type": "code",
   "execution_count": 190,
   "metadata": {},
   "outputs": [
    {
     "name": "stdout",
     "output_type": "stream",
     "text": [
      "Working on 24290 cells and 19076 genes\n"
     ]
    }
   ],
   "source": [
    "from deepimpute.multinet import MultiNet\n",
    "import pandas as pd\n",
    "\n",
    "# Load dataset using pandas\n",
    "data = pd.read_csv('~/CCI/cellphoneDB/smillie_ibd/smillie_fibs_raw_counts.tsv',sep='\\t',index_col=0)\n",
    "# Transpose matrix as gene as columns and cells as rows\n",
    "data = data.T\n",
    "print('Working on {} cells and {} genes'.format(*data.shape))"
   ]
  },
  {
   "cell_type": "code",
   "execution_count": 191,
   "metadata": {},
   "outputs": [
    {
     "data": {
      "text/html": [
       "<div>\n",
       "<style scoped>\n",
       "    .dataframe tbody tr th:only-of-type {\n",
       "        vertical-align: middle;\n",
       "    }\n",
       "\n",
       "    .dataframe tbody tr th {\n",
       "        vertical-align: top;\n",
       "    }\n",
       "\n",
       "    .dataframe thead th {\n",
       "        text-align: right;\n",
       "    }\n",
       "</style>\n",
       "<table border=\"1\" class=\"dataframe\">\n",
       "  <thead>\n",
       "    <tr style=\"text-align: right;\">\n",
       "      <th></th>\n",
       "      <th>7SK</th>\n",
       "      <th>A1BG</th>\n",
       "      <th>A1BG-AS1</th>\n",
       "      <th>A1CF</th>\n",
       "      <th>A2M</th>\n",
       "      <th>A2M-AS1</th>\n",
       "      <th>A2ML1</th>\n",
       "      <th>A4GALT</th>\n",
       "      <th>AAAS</th>\n",
       "      <th>AACS</th>\n",
       "      <th>...</th>\n",
       "      <th>ZXDC</th>\n",
       "      <th>ZYG11A</th>\n",
       "      <th>ZYG11B</th>\n",
       "      <th>ZYX</th>\n",
       "      <th>ZZEF1</th>\n",
       "      <th>ZZZ3</th>\n",
       "      <th>hsa-mir-1199</th>\n",
       "      <th>hsa-mir-6080</th>\n",
       "      <th>hsa-mir-8072</th>\n",
       "      <th>snoU13</th>\n",
       "    </tr>\n",
       "  </thead>\n",
       "  <tbody>\n",
       "    <tr>\n",
       "      <th>N7.LPA.AAACATACCATTTC</th>\n",
       "      <td>0</td>\n",
       "      <td>0</td>\n",
       "      <td>0</td>\n",
       "      <td>0</td>\n",
       "      <td>0</td>\n",
       "      <td>0</td>\n",
       "      <td>0</td>\n",
       "      <td>0</td>\n",
       "      <td>0</td>\n",
       "      <td>0</td>\n",
       "      <td>...</td>\n",
       "      <td>0</td>\n",
       "      <td>0</td>\n",
       "      <td>0</td>\n",
       "      <td>0</td>\n",
       "      <td>0</td>\n",
       "      <td>0</td>\n",
       "      <td>0</td>\n",
       "      <td>0</td>\n",
       "      <td>0</td>\n",
       "      <td>0</td>\n",
       "    </tr>\n",
       "    <tr>\n",
       "      <th>N7.LPA.AAACGCACCCGATA</th>\n",
       "      <td>0</td>\n",
       "      <td>0</td>\n",
       "      <td>0</td>\n",
       "      <td>0</td>\n",
       "      <td>0</td>\n",
       "      <td>0</td>\n",
       "      <td>0</td>\n",
       "      <td>0</td>\n",
       "      <td>0</td>\n",
       "      <td>0</td>\n",
       "      <td>...</td>\n",
       "      <td>0</td>\n",
       "      <td>0</td>\n",
       "      <td>0</td>\n",
       "      <td>1</td>\n",
       "      <td>0</td>\n",
       "      <td>0</td>\n",
       "      <td>0</td>\n",
       "      <td>0</td>\n",
       "      <td>0</td>\n",
       "      <td>0</td>\n",
       "    </tr>\n",
       "    <tr>\n",
       "      <th>N7.LPA.AAACGCTGTATCGG</th>\n",
       "      <td>0</td>\n",
       "      <td>0</td>\n",
       "      <td>0</td>\n",
       "      <td>0</td>\n",
       "      <td>0</td>\n",
       "      <td>0</td>\n",
       "      <td>0</td>\n",
       "      <td>0</td>\n",
       "      <td>0</td>\n",
       "      <td>0</td>\n",
       "      <td>...</td>\n",
       "      <td>0</td>\n",
       "      <td>0</td>\n",
       "      <td>0</td>\n",
       "      <td>0</td>\n",
       "      <td>0</td>\n",
       "      <td>0</td>\n",
       "      <td>0</td>\n",
       "      <td>0</td>\n",
       "      <td>0</td>\n",
       "      <td>0</td>\n",
       "    </tr>\n",
       "    <tr>\n",
       "      <th>N7.LPA.AAAGACGAGACAGG</th>\n",
       "      <td>0</td>\n",
       "      <td>0</td>\n",
       "      <td>0</td>\n",
       "      <td>0</td>\n",
       "      <td>1</td>\n",
       "      <td>0</td>\n",
       "      <td>0</td>\n",
       "      <td>0</td>\n",
       "      <td>0</td>\n",
       "      <td>0</td>\n",
       "      <td>...</td>\n",
       "      <td>0</td>\n",
       "      <td>0</td>\n",
       "      <td>0</td>\n",
       "      <td>0</td>\n",
       "      <td>0</td>\n",
       "      <td>0</td>\n",
       "      <td>0</td>\n",
       "      <td>0</td>\n",
       "      <td>0</td>\n",
       "      <td>0</td>\n",
       "    </tr>\n",
       "    <tr>\n",
       "      <th>N7.LPA.AAAGATCTAGTCTG</th>\n",
       "      <td>0</td>\n",
       "      <td>0</td>\n",
       "      <td>0</td>\n",
       "      <td>0</td>\n",
       "      <td>3</td>\n",
       "      <td>0</td>\n",
       "      <td>0</td>\n",
       "      <td>0</td>\n",
       "      <td>0</td>\n",
       "      <td>0</td>\n",
       "      <td>...</td>\n",
       "      <td>0</td>\n",
       "      <td>0</td>\n",
       "      <td>0</td>\n",
       "      <td>0</td>\n",
       "      <td>0</td>\n",
       "      <td>1</td>\n",
       "      <td>0</td>\n",
       "      <td>0</td>\n",
       "      <td>0</td>\n",
       "      <td>0</td>\n",
       "    </tr>\n",
       "  </tbody>\n",
       "</table>\n",
       "<p>5 rows × 19076 columns</p>\n",
       "</div>"
      ],
      "text/plain": [
       "                       7SK  A1BG  A1BG-AS1  A1CF  A2M  A2M-AS1  A2ML1  A4GALT  \\\n",
       "N7.LPA.AAACATACCATTTC    0     0         0     0    0        0      0       0   \n",
       "N7.LPA.AAACGCACCCGATA    0     0         0     0    0        0      0       0   \n",
       "N7.LPA.AAACGCTGTATCGG    0     0         0     0    0        0      0       0   \n",
       "N7.LPA.AAAGACGAGACAGG    0     0         0     0    1        0      0       0   \n",
       "N7.LPA.AAAGATCTAGTCTG    0     0         0     0    3        0      0       0   \n",
       "\n",
       "                       AAAS  AACS  ...  ZXDC  ZYG11A  ZYG11B  ZYX  ZZEF1  \\\n",
       "N7.LPA.AAACATACCATTTC     0     0  ...     0       0       0    0      0   \n",
       "N7.LPA.AAACGCACCCGATA     0     0  ...     0       0       0    1      0   \n",
       "N7.LPA.AAACGCTGTATCGG     0     0  ...     0       0       0    0      0   \n",
       "N7.LPA.AAAGACGAGACAGG     0     0  ...     0       0       0    0      0   \n",
       "N7.LPA.AAAGATCTAGTCTG     0     0  ...     0       0       0    0      0   \n",
       "\n",
       "                       ZZZ3  hsa-mir-1199  hsa-mir-6080  hsa-mir-8072  snoU13  \n",
       "N7.LPA.AAACATACCATTTC     0             0             0             0       0  \n",
       "N7.LPA.AAACGCACCCGATA     0             0             0             0       0  \n",
       "N7.LPA.AAACGCTGTATCGG     0             0             0             0       0  \n",
       "N7.LPA.AAAGACGAGACAGG     0             0             0             0       0  \n",
       "N7.LPA.AAAGATCTAGTCTG     1             0             0             0       0  \n",
       "\n",
       "[5 rows x 19076 columns]"
      ]
     },
     "execution_count": 191,
     "metadata": {},
     "output_type": "execute_result"
    }
   ],
   "source": [
    "data.head()"
   ]
  },
  {
   "cell_type": "markdown",
   "metadata": {},
   "source": [
    "## Create a DeepImpute multinet"
   ]
  },
  {
   "cell_type": "code",
   "execution_count": 192,
   "metadata": {
    "tags": []
   },
   "outputs": [
    {
     "data": {
      "text/plain": [
       "<AxesSubplot:>"
      ]
     },
     "execution_count": 192,
     "metadata": {},
     "output_type": "execute_result"
    },
    {
     "data": {
      "image/png": "[encoded data removed]",
      "text/plain": [
       "<Figure size 432x288 with 1 Axes>"
      ]
     },
     "metadata": {
      "needs_background": "light"
     },
     "output_type": "display_data"
    }
   ],
   "source": [
    "data['IL6ST'].hist(bins=50)"
   ]
  },
  {
   "cell_type": "code",
   "execution_count": 60,
   "metadata": {},
   "outputs": [
    {
     "data": {
      "text/plain": [
       "<AxesSubplot:xlabel='IL11', ylabel='IL11RA'>"
      ]
     },
     "execution_count": 60,
     "metadata": {},
     "output_type": "execute_result"
    },
    {
     "data": {
      "image/png": "[encoded data removed]",
      "text/plain": [
       "<Figure size 432x288 with 1 Axes>"
      ]
     },
     "metadata": {
      "needs_background": "light"
     },
     "output_type": "display_data"
    }
   ],
   "source": [
    "data.plot.scatter('IL11','IL11RA')"
   ]
  },
  {
   "cell_type": "code",
   "execution_count": 194,
   "metadata": {},
   "outputs": [
    {
     "name": "stdout",
     "output_type": "stream",
     "text": [
      "Using all the cores (32)\n"
     ]
    }
   ],
   "source": [
    "# Using default parameters\n",
    "multinet = MultiNet() "
   ]
  },
  {
   "cell_type": "code",
   "execution_count": 195,
   "metadata": {},
   "outputs": [],
   "source": [
    "# Using custom parameters\n",
    "NN_params = {\n",
    "        'learning_rate': 1e-4,\n",
    "        'batch_size': 64,\n",
    "        'max_epochs': 200,\n",
    "        'ncores': 5,\n",
    "        'sub_outputdim': 512,\n",
    "        'architecture': [\n",
    "            {\"type\": \"dense\", \"activation\": \"relu\", \"neurons\": 256},\n",
    "            {\"type\": \"dropout\", \"activation\": \"dropout\", \"rate\": 0.3}]\n",
    "    }\n",
    "\n",
    "multinet = MultiNet(**NN_params)"
   ]
  },
  {
   "cell_type": "markdown",
   "metadata": {},
   "source": [
    "## Fit the networks"
   ]
  },
  {
   "cell_type": "code",
   "execution_count": 196,
   "metadata": {},
   "outputs": [
    {
     "name": "stdout",
     "output_type": "stream",
     "text": [
      "Help on method fit in module deepimpute.multinet:\n",
      "\n",
      "fit(raw, cell_subset=1, NN_lim=None, genes_to_impute=None, n_pred=None, ntop=5, minVMR=0.5, mode='random') method of deepimpute.multinet.MultiNet instance\n",
      "\n"
     ]
    }
   ],
   "source": [
    "help(multinet.fit)"
   ]
  },
  {
   "cell_type": "code",
   "execution_count": 209,
   "metadata": {
    "tags": []
   },
   "outputs": [
    {
     "name": "stdout",
     "output_type": "stream",
     "text": [
      "Input dataset is 24290 cells (rows) and 19076 genes (columns)\n",
      "First 3 rows and columns:\n",
      "                       7SK  A1BG  A1BG-AS1\n",
      "N7.LPA.AAACATACCATTTC    0     0         0\n",
      "N7.LPA.AAACGCACCCGATA    0     0         0\n",
      "N7.LPA.AAACGCTGTATCGG    0     0         0\n",
      "2048 genes selected for imputation\n",
      "Net 0: 538 predictors, 512 targets\n",
      "Net 1: 510 predictors, 512 targets\n",
      "Net 2: 563 predictors, 512 targets\n",
      "Net 3: 473 predictors, 512 targets\n",
      "Normalization\n",
      "Building network\n",
      "[{'type': 'dense', 'activation': 'relu', 'neurons': 256}, {'type': 'dropout', 'activation': 'dropout', 'rate': 0.3}]\n"
     ]
    },
    {
     "name": "stderr",
     "output_type": "stream",
     "text": [
      "/mnt/rstudio/smohammed/.local/lib/python3.9/site-packages/keras/optimizer_v2/adam.py:105: UserWarning: The `lr` argument is deprecated, use `learning_rate` instead.\n",
      "  super(Adam, self).__init__(name, **kwargs)\n"
     ]
    },
    {
     "name": "stdout",
     "output_type": "stream",
     "text": [
      "Fitting with 24290 cells\n",
      "Epoch 1/200\n",
      "361/361 [==============================] - 2s 4ms/step - loss: 0.7738 - dense_16_loss: 0.1899 - dense_17_loss: 0.1762 - dense_18_loss: 0.1907 - dense_19_loss: 0.2170 - val_loss: 0.3466 - val_dense_16_loss: 0.0863 - val_dense_17_loss: 0.0778 - val_dense_18_loss: 0.0877 - val_dense_19_loss: 0.0947\n",
      "Epoch 2/200\n",
      "361/361 [==============================] - 1s 4ms/step - loss: 0.4136 - dense_16_loss: 0.1024 - dense_17_loss: 0.0934 - dense_18_loss: 0.1023 - dense_19_loss: 0.1154 - val_loss: 0.2957 - val_dense_16_loss: 0.0753 - val_dense_17_loss: 0.0663 - val_dense_18_loss: 0.0726 - val_dense_19_loss: 0.0815\n",
      "Epoch 3/200\n",
      "361/361 [==============================] - 1s 4ms/step - loss: 0.3562 - dense_16_loss: 0.0888 - dense_17_loss: 0.0812 - dense_18_loss: 0.0872 - dense_19_loss: 0.0990 - val_loss: 0.2746 - val_dense_16_loss: 0.0688 - val_dense_17_loss: 0.0622 - val_dense_18_loss: 0.0682 - val_dense_19_loss: 0.0753\n",
      "Epoch 4/200\n",
      "361/361 [==============================] - 1s 4ms/step - loss: 0.3279 - dense_16_loss: 0.0819 - dense_17_loss: 0.0751 - dense_18_loss: 0.0799 - dense_19_loss: 0.0910 - val_loss: 0.2595 - val_dense_16_loss: 0.0650 - val_dense_17_loss: 0.0595 - val_dense_18_loss: 0.0635 - val_dense_19_loss: 0.0715\n",
      "Epoch 5/200\n",
      "361/361 [==============================] - 1s 4ms/step - loss: 0.3100 - dense_16_loss: 0.0776 - dense_17_loss: 0.0712 - dense_18_loss: 0.0753 - dense_19_loss: 0.0858 - val_loss: 0.2522 - val_dense_16_loss: 0.0630 - val_dense_17_loss: 0.0580 - val_dense_18_loss: 0.0615 - val_dense_19_loss: 0.0696\n",
      "Epoch 6/200\n",
      "361/361 [==============================] - 1s 4ms/step - loss: 0.2975 - dense_16_loss: 0.0745 - dense_17_loss: 0.0686 - dense_18_loss: 0.0722 - dense_19_loss: 0.0823 - val_loss: 0.2464 - val_dense_16_loss: 0.0620 - val_dense_17_loss: 0.0576 - val_dense_18_loss: 0.0595 - val_dense_19_loss: 0.0674\n",
      "Epoch 7/200\n",
      "361/361 [==============================] - 1s 4ms/step - loss: 0.2888 - dense_16_loss: 0.0721 - dense_17_loss: 0.0667 - dense_18_loss: 0.0701 - dense_19_loss: 0.0799 - val_loss: 0.2405 - val_dense_16_loss: 0.0603 - val_dense_17_loss: 0.0556 - val_dense_18_loss: 0.0584 - val_dense_19_loss: 0.0662\n",
      "Epoch 8/200\n",
      "361/361 [==============================] - 1s 4ms/step - loss: 0.2806 - dense_16_loss: 0.0704 - dense_17_loss: 0.0650 - dense_18_loss: 0.0678 - dense_19_loss: 0.0774 - val_loss: 0.2371 - val_dense_16_loss: 0.0595 - val_dense_17_loss: 0.0552 - val_dense_18_loss: 0.0574 - val_dense_19_loss: 0.0650\n",
      "Epoch 9/200\n",
      "361/361 [==============================] - 1s 3ms/step - loss: 0.2747 - dense_16_loss: 0.0689 - dense_17_loss: 0.0636 - dense_18_loss: 0.0665 - dense_19_loss: 0.0758 - val_loss: 0.2344 - val_dense_16_loss: 0.0585 - val_dense_17_loss: 0.0543 - val_dense_18_loss: 0.0565 - val_dense_19_loss: 0.0651\n",
      "Epoch 10/200\n",
      "361/361 [==============================] - 1s 4ms/step - loss: 0.2703 - dense_16_loss: 0.0677 - dense_17_loss: 0.0628 - dense_18_loss: 0.0653 - dense_19_loss: 0.0745 - val_loss: 0.2331 - val_dense_16_loss: 0.0586 - val_dense_17_loss: 0.0542 - val_dense_18_loss: 0.0564 - val_dense_19_loss: 0.0639\n",
      "Epoch 11/200\n",
      "361/361 [==============================] - 1s 4ms/step - loss: 0.2654 - dense_16_loss: 0.0666 - dense_17_loss: 0.0616 - dense_18_loss: 0.0642 - dense_19_loss: 0.0731 - val_loss: 0.2294 - val_dense_16_loss: 0.0575 - val_dense_17_loss: 0.0536 - val_dense_18_loss: 0.0553 - val_dense_19_loss: 0.0630\n",
      "Epoch 12/200\n",
      "361/361 [==============================] - 1s 3ms/step - loss: 0.2619 - dense_16_loss: 0.0657 - dense_17_loss: 0.0606 - dense_18_loss: 0.0634 - dense_19_loss: 0.0722 - val_loss: 0.2271 - val_dense_16_loss: 0.0571 - val_dense_17_loss: 0.0528 - val_dense_18_loss: 0.0550 - val_dense_19_loss: 0.0621\n",
      "Epoch 13/200\n",
      "361/361 [==============================] - 1s 4ms/step - loss: 0.2587 - dense_16_loss: 0.0649 - dense_17_loss: 0.0602 - dense_18_loss: 0.0624 - dense_19_loss: 0.0713 - val_loss: 0.2276 - val_dense_16_loss: 0.0567 - val_dense_17_loss: 0.0524 - val_dense_18_loss: 0.0562 - val_dense_19_loss: 0.0623\n",
      "Epoch 14/200\n",
      "361/361 [==============================] - 1s 4ms/step - loss: 0.2557 - dense_16_loss: 0.0642 - dense_17_loss: 0.0596 - dense_18_loss: 0.0618 - dense_19_loss: 0.0701 - val_loss: 0.2242 - val_dense_16_loss: 0.0563 - val_dense_17_loss: 0.0524 - val_dense_18_loss: 0.0540 - val_dense_19_loss: 0.0615\n",
      "Epoch 15/200\n",
      "361/361 [==============================] - 1s 3ms/step - loss: 0.2531 - dense_16_loss: 0.0637 - dense_17_loss: 0.0589 - dense_18_loss: 0.0611 - dense_19_loss: 0.0694 - val_loss: 0.2229 - val_dense_16_loss: 0.0566 - val_dense_17_loss: 0.0519 - val_dense_18_loss: 0.0537 - val_dense_19_loss: 0.0607\n",
      "Epoch 16/200\n",
      "361/361 [==============================] - 1s 4ms/step - loss: 0.2505 - dense_16_loss: 0.0629 - dense_17_loss: 0.0584 - dense_18_loss: 0.0604 - dense_19_loss: 0.0688 - val_loss: 0.2211 - val_dense_16_loss: 0.0559 - val_dense_17_loss: 0.0516 - val_dense_18_loss: 0.0533 - val_dense_19_loss: 0.0603\n",
      "Epoch 17/200\n",
      "361/361 [==============================] - 1s 4ms/step - loss: 0.2484 - dense_16_loss: 0.0623 - dense_17_loss: 0.0580 - dense_18_loss: 0.0600 - dense_19_loss: 0.0681 - val_loss: 0.2201 - val_dense_16_loss: 0.0556 - val_dense_17_loss: 0.0514 - val_dense_18_loss: 0.0530 - val_dense_19_loss: 0.0601\n",
      "Epoch 18/200\n",
      "361/361 [==============================] - 1s 4ms/step - loss: 0.2468 - dense_16_loss: 0.0619 - dense_17_loss: 0.0575 - dense_18_loss: 0.0596 - dense_19_loss: 0.0678 - val_loss: 0.2239 - val_dense_16_loss: 0.0562 - val_dense_17_loss: 0.0519 - val_dense_18_loss: 0.0551 - val_dense_19_loss: 0.0608\n",
      "Epoch 19/200\n",
      "361/361 [==============================] - 1s 4ms/step - loss: 0.2448 - dense_16_loss: 0.0616 - dense_17_loss: 0.0573 - dense_18_loss: 0.0591 - dense_19_loss: 0.0669 - val_loss: 0.2197 - val_dense_16_loss: 0.0551 - val_dense_17_loss: 0.0514 - val_dense_18_loss: 0.0533 - val_dense_19_loss: 0.0599\n",
      "Epoch 20/200\n",
      "361/361 [==============================] - 1s 4ms/step - loss: 0.2433 - dense_16_loss: 0.0612 - dense_17_loss: 0.0568 - dense_18_loss: 0.0587 - dense_19_loss: 0.0667 - val_loss: 0.2178 - val_dense_16_loss: 0.0548 - val_dense_17_loss: 0.0512 - val_dense_18_loss: 0.0524 - val_dense_19_loss: 0.0594\n",
      "Epoch 21/200\n",
      "361/361 [==============================] - 1s 3ms/step - loss: 0.2418 - dense_16_loss: 0.0608 - dense_17_loss: 0.0564 - dense_18_loss: 0.0584 - dense_19_loss: 0.0662 - val_loss: 0.2170 - val_dense_16_loss: 0.0547 - val_dense_17_loss: 0.0507 - val_dense_18_loss: 0.0523 - val_dense_19_loss: 0.0592\n",
      "Epoch 22/200\n",
      "361/361 [==============================] - 1s 3ms/step - loss: 0.2408 - dense_16_loss: 0.0606 - dense_17_loss: 0.0563 - dense_18_loss: 0.0581 - dense_19_loss: 0.0658 - val_loss: 0.2165 - val_dense_16_loss: 0.0547 - val_dense_17_loss: 0.0505 - val_dense_18_loss: 0.0521 - val_dense_19_loss: 0.0591\n",
      "Epoch 23/200\n",
      "361/361 [==============================] - 1s 3ms/step - loss: 0.2396 - dense_16_loss: 0.0603 - dense_17_loss: 0.0558 - dense_18_loss: 0.0579 - dense_19_loss: 0.0655 - val_loss: 0.2164 - val_dense_16_loss: 0.0552 - val_dense_17_loss: 0.0504 - val_dense_18_loss: 0.0518 - val_dense_19_loss: 0.0590\n",
      "Epoch 24/200\n",
      "361/361 [==============================] - 1s 3ms/step - loss: 0.2380 - dense_16_loss: 0.0598 - dense_17_loss: 0.0557 - dense_18_loss: 0.0574 - dense_19_loss: 0.0652 - val_loss: 0.2153 - val_dense_16_loss: 0.0543 - val_dense_17_loss: 0.0507 - val_dense_18_loss: 0.0518 - val_dense_19_loss: 0.0585\n",
      "Epoch 25/200\n",
      "361/361 [==============================] - 1s 3ms/step - loss: 0.2375 - dense_16_loss: 0.0598 - dense_17_loss: 0.0556 - dense_18_loss: 0.0573 - dense_19_loss: 0.0648 - val_loss: 0.2146 - val_dense_16_loss: 0.0541 - val_dense_17_loss: 0.0506 - val_dense_18_loss: 0.0516 - val_dense_19_loss: 0.0584\n",
      "Epoch 26/200\n",
      "361/361 [==============================] - 1s 3ms/step - loss: 0.2366 - dense_16_loss: 0.0593 - dense_17_loss: 0.0554 - dense_18_loss: 0.0572 - dense_19_loss: 0.0647 - val_loss: 0.2142 - val_dense_16_loss: 0.0541 - val_dense_17_loss: 0.0501 - val_dense_18_loss: 0.0517 - val_dense_19_loss: 0.0583\n",
      "Epoch 27/200\n",
      "361/361 [==============================] - 1s 3ms/step - loss: 0.2357 - dense_16_loss: 0.0593 - dense_17_loss: 0.0550 - dense_18_loss: 0.0569 - dense_19_loss: 0.0644 - val_loss: 0.2139 - val_dense_16_loss: 0.0540 - val_dense_17_loss: 0.0504 - val_dense_18_loss: 0.0514 - val_dense_19_loss: 0.0581\n",
      "Epoch 28/200\n",
      "361/361 [==============================] - 1s 4ms/step - loss: 0.2346 - dense_16_loss: 0.0590 - dense_17_loss: 0.0549 - dense_18_loss: 0.0567 - dense_19_loss: 0.0640 - val_loss: 0.2152 - val_dense_16_loss: 0.0546 - val_dense_17_loss: 0.0504 - val_dense_18_loss: 0.0520 - val_dense_19_loss: 0.0582\n",
      "Epoch 29/200\n",
      "361/361 [==============================] - 1s 4ms/step - loss: 0.2341 - dense_16_loss: 0.0590 - dense_17_loss: 0.0549 - dense_18_loss: 0.0564 - dense_19_loss: 0.0639 - val_loss: 0.2155 - val_dense_16_loss: 0.0536 - val_dense_17_loss: 0.0513 - val_dense_18_loss: 0.0524 - val_dense_19_loss: 0.0582\n",
      "Epoch 30/200\n",
      "361/361 [==============================] - 1s 4ms/step - loss: 0.2335 - dense_16_loss: 0.0588 - dense_17_loss: 0.0545 - dense_18_loss: 0.0564 - dense_19_loss: 0.0638 - val_loss: 0.2131 - val_dense_16_loss: 0.0540 - val_dense_17_loss: 0.0501 - val_dense_18_loss: 0.0511 - val_dense_19_loss: 0.0579\n",
      "Epoch 31/200\n",
      "361/361 [==============================] - 1s 4ms/step - loss: 0.2327 - dense_16_loss: 0.0586 - dense_17_loss: 0.0544 - dense_18_loss: 0.0561 - dense_19_loss: 0.0635 - val_loss: 0.2124 - val_dense_16_loss: 0.0538 - val_dense_17_loss: 0.0499 - val_dense_18_loss: 0.0511 - val_dense_19_loss: 0.0577\n",
      "Epoch 32/200\n",
      "361/361 [==============================] - 1s 3ms/step - loss: 0.2320 - dense_16_loss: 0.0584 - dense_17_loss: 0.0543 - dense_18_loss: 0.0560 - dense_19_loss: 0.0634 - val_loss: 0.2130 - val_dense_16_loss: 0.0536 - val_dense_17_loss: 0.0497 - val_dense_18_loss: 0.0522 - val_dense_19_loss: 0.0575\n",
      "Epoch 33/200\n",
      "361/361 [==============================] - 1s 4ms/step - loss: 0.2316 - dense_16_loss: 0.0583 - dense_17_loss: 0.0542 - dense_18_loss: 0.0559 - dense_19_loss: 0.0633 - val_loss: 0.2122 - val_dense_16_loss: 0.0536 - val_dense_17_loss: 0.0496 - val_dense_18_loss: 0.0510 - val_dense_19_loss: 0.0578\n",
      "Epoch 34/200\n",
      "361/361 [==============================] - 1s 4ms/step - loss: 0.2306 - dense_16_loss: 0.0580 - dense_17_loss: 0.0541 - dense_18_loss: 0.0557 - dense_19_loss: 0.0629 - val_loss: 0.2115 - val_dense_16_loss: 0.0538 - val_dense_17_loss: 0.0497 - val_dense_18_loss: 0.0508 - val_dense_19_loss: 0.0573\n",
      "Epoch 35/200\n",
      "361/361 [==============================] - 1s 4ms/step - loss: 0.2301 - dense_16_loss: 0.0580 - dense_17_loss: 0.0538 - dense_18_loss: 0.0555 - dense_19_loss: 0.0628 - val_loss: 0.2120 - val_dense_16_loss: 0.0536 - val_dense_17_loss: 0.0499 - val_dense_18_loss: 0.0508 - val_dense_19_loss: 0.0577\n",
      "Epoch 36/200\n",
      "361/361 [==============================] - 1s 4ms/step - loss: 0.2296 - dense_16_loss: 0.0578 - dense_17_loss: 0.0537 - dense_18_loss: 0.0555 - dense_19_loss: 0.0626 - val_loss: 0.2108 - val_dense_16_loss: 0.0534 - val_dense_17_loss: 0.0497 - val_dense_18_loss: 0.0506 - val_dense_19_loss: 0.0571\n",
      "Epoch 37/200\n",
      "361/361 [==============================] - 1s 4ms/step - loss: 0.2291 - dense_16_loss: 0.0577 - dense_17_loss: 0.0537 - dense_18_loss: 0.0552 - dense_19_loss: 0.0625 - val_loss: 0.2105 - val_dense_16_loss: 0.0533 - val_dense_17_loss: 0.0495 - val_dense_18_loss: 0.0506 - val_dense_19_loss: 0.0572\n",
      "Epoch 38/200\n",
      "361/361 [==============================] - 1s 4ms/step - loss: 0.2282 - dense_16_loss: 0.0574 - dense_17_loss: 0.0534 - dense_18_loss: 0.0550 - dense_19_loss: 0.0623 - val_loss: 0.2110 - val_dense_16_loss: 0.0537 - val_dense_17_loss: 0.0493 - val_dense_18_loss: 0.0507 - val_dense_19_loss: 0.0572\n",
      "Epoch 39/200\n",
      "361/361 [==============================] - 1s 3ms/step - loss: 0.2283 - dense_16_loss: 0.0574 - dense_17_loss: 0.0535 - dense_18_loss: 0.0550 - dense_19_loss: 0.0624 - val_loss: 0.2101 - val_dense_16_loss: 0.0532 - val_dense_17_loss: 0.0493 - val_dense_18_loss: 0.0505 - val_dense_19_loss: 0.0571\n",
      "Epoch 40/200\n",
      "361/361 [==============================] - 1s 3ms/step - loss: 0.2274 - dense_16_loss: 0.0573 - dense_17_loss: 0.0533 - dense_18_loss: 0.0548 - dense_19_loss: 0.0620 - val_loss: 0.2104 - val_dense_16_loss: 0.0532 - val_dense_17_loss: 0.0495 - val_dense_18_loss: 0.0506 - val_dense_19_loss: 0.0570\n",
      "Epoch 41/200\n",
      "361/361 [==============================] - 1s 4ms/step - loss: 0.2269 - dense_16_loss: 0.0572 - dense_17_loss: 0.0532 - dense_18_loss: 0.0547 - dense_19_loss: 0.0619 - val_loss: 0.2108 - val_dense_16_loss: 0.0538 - val_dense_17_loss: 0.0497 - val_dense_18_loss: 0.0504 - val_dense_19_loss: 0.0569\n",
      "Epoch 42/200\n",
      "361/361 [==============================] - 1s 4ms/step - loss: 0.2269 - dense_16_loss: 0.0571 - dense_17_loss: 0.0531 - dense_18_loss: 0.0547 - dense_19_loss: 0.0620 - val_loss: 0.2102 - val_dense_16_loss: 0.0530 - val_dense_17_loss: 0.0496 - val_dense_18_loss: 0.0503 - val_dense_19_loss: 0.0572\n",
      "Epoch 43/200\n",
      "361/361 [==============================] - 1s 4ms/step - loss: 0.2263 - dense_16_loss: 0.0571 - dense_17_loss: 0.0530 - dense_18_loss: 0.0546 - dense_19_loss: 0.0616 - val_loss: 0.2101 - val_dense_16_loss: 0.0529 - val_dense_17_loss: 0.0493 - val_dense_18_loss: 0.0505 - val_dense_19_loss: 0.0574\n",
      "Epoch 44/200\n",
      "361/361 [==============================] - 1s 4ms/step - loss: 0.2261 - dense_16_loss: 0.0569 - dense_17_loss: 0.0530 - dense_18_loss: 0.0544 - dense_19_loss: 0.0617 - val_loss: 0.2091 - val_dense_16_loss: 0.0529 - val_dense_17_loss: 0.0492 - val_dense_18_loss: 0.0503 - val_dense_19_loss: 0.0567\n",
      "Epoch 45/200\n",
      "361/361 [==============================] - 1s 4ms/step - loss: 0.2251 - dense_16_loss: 0.0567 - dense_17_loss: 0.0528 - dense_18_loss: 0.0542 - dense_19_loss: 0.0614 - val_loss: 0.2093 - val_dense_16_loss: 0.0530 - val_dense_17_loss: 0.0491 - val_dense_18_loss: 0.0505 - val_dense_19_loss: 0.0568\n",
      "Epoch 46/200\n",
      "361/361 [==============================] - 1s 4ms/step - loss: 0.2251 - dense_16_loss: 0.0569 - dense_17_loss: 0.0527 - dense_18_loss: 0.0543 - dense_19_loss: 0.0613 - val_loss: 0.2088 - val_dense_16_loss: 0.0529 - val_dense_17_loss: 0.0490 - val_dense_18_loss: 0.0502 - val_dense_19_loss: 0.0566\n",
      "Epoch 47/200\n",
      "361/361 [==============================] - 1s 4ms/step - loss: 0.2248 - dense_16_loss: 0.0567 - dense_17_loss: 0.0526 - dense_18_loss: 0.0542 - dense_19_loss: 0.0613 - val_loss: 0.2089 - val_dense_16_loss: 0.0529 - val_dense_17_loss: 0.0491 - val_dense_18_loss: 0.0501 - val_dense_19_loss: 0.0568\n",
      "Epoch 48/200\n",
      "361/361 [==============================] - 1s 4ms/step - loss: 0.2245 - dense_16_loss: 0.0566 - dense_17_loss: 0.0527 - dense_18_loss: 0.0540 - dense_19_loss: 0.0613 - val_loss: 0.2086 - val_dense_16_loss: 0.0529 - val_dense_17_loss: 0.0490 - val_dense_18_loss: 0.0501 - val_dense_19_loss: 0.0565\n",
      "Epoch 49/200\n",
      "361/361 [==============================] - 1s 4ms/step - loss: 0.2240 - dense_16_loss: 0.0564 - dense_17_loss: 0.0526 - dense_18_loss: 0.0540 - dense_19_loss: 0.0610 - val_loss: 0.2084 - val_dense_16_loss: 0.0528 - val_dense_17_loss: 0.0490 - val_dense_18_loss: 0.0500 - val_dense_19_loss: 0.0566\n",
      "Epoch 50/200\n",
      "361/361 [==============================] - 1s 4ms/step - loss: 0.2239 - dense_16_loss: 0.0563 - dense_17_loss: 0.0524 - dense_18_loss: 0.0539 - dense_19_loss: 0.0612 - val_loss: 0.2082 - val_dense_16_loss: 0.0527 - val_dense_17_loss: 0.0489 - val_dense_18_loss: 0.0500 - val_dense_19_loss: 0.0565\n",
      "Epoch 51/200\n",
      "361/361 [==============================] - 1s 4ms/step - loss: 0.2235 - dense_16_loss: 0.0563 - dense_17_loss: 0.0523 - dense_18_loss: 0.0539 - dense_19_loss: 0.0610 - val_loss: 0.2081 - val_dense_16_loss: 0.0527 - val_dense_17_loss: 0.0489 - val_dense_18_loss: 0.0500 - val_dense_19_loss: 0.0565\n",
      "Epoch 52/200\n",
      "361/361 [==============================] - 1s 4ms/step - loss: 0.2231 - dense_16_loss: 0.0563 - dense_17_loss: 0.0523 - dense_18_loss: 0.0536 - dense_19_loss: 0.0609 - val_loss: 0.2088 - val_dense_16_loss: 0.0532 - val_dense_17_loss: 0.0489 - val_dense_18_loss: 0.0502 - val_dense_19_loss: 0.0565\n",
      "Epoch 53/200\n",
      "361/361 [==============================] - 1s 4ms/step - loss: 0.2230 - dense_16_loss: 0.0561 - dense_17_loss: 0.0522 - dense_18_loss: 0.0538 - dense_19_loss: 0.0608 - val_loss: 0.2081 - val_dense_16_loss: 0.0528 - val_dense_17_loss: 0.0491 - val_dense_18_loss: 0.0498 - val_dense_19_loss: 0.0564\n",
      "Epoch 54/200\n",
      "361/361 [==============================] - 1s 4ms/step - loss: 0.2226 - dense_16_loss: 0.0561 - dense_17_loss: 0.0520 - dense_18_loss: 0.0536 - dense_19_loss: 0.0609 - val_loss: 0.2076 - val_dense_16_loss: 0.0526 - val_dense_17_loss: 0.0489 - val_dense_18_loss: 0.0498 - val_dense_19_loss: 0.0563\n",
      "Epoch 55/200\n",
      "361/361 [==============================] - 1s 3ms/step - loss: 0.2222 - dense_16_loss: 0.0559 - dense_17_loss: 0.0521 - dense_18_loss: 0.0536 - dense_19_loss: 0.0606 - val_loss: 0.2076 - val_dense_16_loss: 0.0527 - val_dense_17_loss: 0.0489 - val_dense_18_loss: 0.0498 - val_dense_19_loss: 0.0563\n",
      "Epoch 56/200\n",
      "361/361 [==============================] - 1s 4ms/step - loss: 0.2220 - dense_16_loss: 0.0559 - dense_17_loss: 0.0521 - dense_18_loss: 0.0535 - dense_19_loss: 0.0606 - val_loss: 0.2098 - val_dense_16_loss: 0.0531 - val_dense_17_loss: 0.0493 - val_dense_18_loss: 0.0510 - val_dense_19_loss: 0.0563\n",
      "Epoch 57/200\n",
      "361/361 [==============================] - 1s 4ms/step - loss: 0.2217 - dense_16_loss: 0.0560 - dense_17_loss: 0.0520 - dense_18_loss: 0.0533 - dense_19_loss: 0.0604 - val_loss: 0.2097 - val_dense_16_loss: 0.0532 - val_dense_17_loss: 0.0494 - val_dense_18_loss: 0.0505 - val_dense_19_loss: 0.0566\n",
      "Epoch 58/200\n",
      "361/361 [==============================] - 1s 4ms/step - loss: 0.2213 - dense_16_loss: 0.0556 - dense_17_loss: 0.0520 - dense_18_loss: 0.0533 - dense_19_loss: 0.0604 - val_loss: 0.2078 - val_dense_16_loss: 0.0525 - val_dense_17_loss: 0.0491 - val_dense_18_loss: 0.0498 - val_dense_19_loss: 0.0565\n",
      "Epoch 59/200\n",
      "361/361 [==============================] - 1s 4ms/step - loss: 0.2209 - dense_16_loss: 0.0557 - dense_17_loss: 0.0518 - dense_18_loss: 0.0531 - dense_19_loss: 0.0603 - val_loss: 0.2092 - val_dense_16_loss: 0.0529 - val_dense_17_loss: 0.0496 - val_dense_18_loss: 0.0501 - val_dense_19_loss: 0.0567\n",
      "Stopped fitting after 59 epochs\n",
      "Saved model to disk in /tmp/tmpv21tf2p7\n"
     ]
    },
    {
     "data": {
      "text/plain": [
       "<deepimpute.multinet.MultiNet at 0x7f40a00ca7f0>"
      ]
     },
     "execution_count": 209,
     "metadata": {},
     "output_type": "execute_result"
    }
   ],
   "source": [
    "# Using all the data\n",
    "multinet.fit(data,cell_subset=1,minVMR=0.5)"
   ]
  },
  {
   "cell_type": "code",
   "execution_count": 63,
   "metadata": {
    "collapsed": true,
    "jupyter": {
     "outputs_hidden": true,
     "source_hidden": true
    },
    "tags": []
   },
   "outputs": [
    {
     "name": "stdout",
     "output_type": "stream",
     "text": [
      "Input dataset is 24290 cells (rows) and 19076 genes (columns)\n",
      "First 3 rows and columns:\n",
      "                       7SK  A1BG  A1BG-AS1\n",
      "N7.LPA.AAACATACCATTTC    0     0         0\n",
      "N7.LPA.AAACGCACCCGATA    0     0         0\n",
      "N7.LPA.AAACGCTGTATCGG    0     0         0\n",
      "The number of input genes is not a multiple of 9. Filling with other genes.\n",
      "Net 0: 450 predictors, 512 targets\n",
      "Normalization\n",
      "Building network\n",
      "[{'type': 'dense', 'activation': 'relu', 'neurons': 200}, {'type': 'dropout', 'activation': 'dropout', 'rate': 0.2}]\n"
     ]
    },
    {
     "name": "stderr",
     "output_type": "stream",
     "text": [
      "/mnt/rstudio/smohammed/.local/lib/python3.9/site-packages/keras/optimizer_v2/adam.py:105: UserWarning: The `lr` argument is deprecated, use `learning_rate` instead.\n",
      "  super(Adam, self).__init__(name, **kwargs)\n"
     ]
    },
    {
     "name": "stdout",
     "output_type": "stream",
     "text": [
      "Fitting with 12145 cells\n",
      "Epoch 1/200\n",
      "46/46 [==============================] - 1s 6ms/step - loss: 2.1209 - val_loss: 1.6334\n",
      "Epoch 2/200\n",
      "46/46 [==============================] - 0s 4ms/step - loss: 1.1792 - val_loss: 0.7011\n",
      "Epoch 3/200\n",
      "46/46 [==============================] - 0s 4ms/step - loss: 0.7142 - val_loss: 0.5315\n",
      "Epoch 4/200\n",
      "46/46 [==============================] - 0s 4ms/step - loss: 0.6313 - val_loss: 0.4954\n",
      "Epoch 5/200\n",
      "46/46 [==============================] - 0s 4ms/step - loss: 0.5840 - val_loss: 0.4664\n",
      "Epoch 6/200\n",
      "46/46 [==============================] - 0s 4ms/step - loss: 0.5483 - val_loss: 0.4439\n",
      "Epoch 7/200\n",
      "46/46 [==============================] - 0s 4ms/step - loss: 0.5184 - val_loss: 0.4257\n",
      "Epoch 8/200\n",
      "46/46 [==============================] - 0s 4ms/step - loss: 0.4914 - val_loss: 0.4070\n",
      "Epoch 9/200\n",
      "46/46 [==============================] - 0s 4ms/step - loss: 0.4674 - val_loss: 0.3889\n",
      "Epoch 10/200\n",
      "46/46 [==============================] - 0s 4ms/step - loss: 0.4460 - val_loss: 0.3773\n",
      "Epoch 11/200\n",
      "46/46 [==============================] - 0s 4ms/step - loss: 0.4231 - val_loss: 0.3592\n",
      "Epoch 12/200\n",
      "46/46 [==============================] - 0s 4ms/step - loss: 0.4061 - val_loss: 0.3466\n",
      "Epoch 13/200\n",
      "46/46 [==============================] - 0s 4ms/step - loss: 0.3890 - val_loss: 0.3326\n",
      "Epoch 14/200\n",
      "46/46 [==============================] - 0s 4ms/step - loss: 0.3755 - val_loss: 0.3236\n",
      "Epoch 15/200\n",
      "46/46 [==============================] - 0s 4ms/step - loss: 0.3633 - val_loss: 0.3128\n",
      "Epoch 16/200\n",
      "46/46 [==============================] - 0s 4ms/step - loss: 0.3518 - val_loss: 0.3049\n",
      "Epoch 17/200\n",
      "46/46 [==============================] - 0s 4ms/step - loss: 0.3420 - val_loss: 0.2974\n",
      "Epoch 18/200\n",
      "46/46 [==============================] - 0s 4ms/step - loss: 0.3329 - val_loss: 0.2915\n",
      "Epoch 19/200\n",
      "46/46 [==============================] - 0s 4ms/step - loss: 0.3259 - val_loss: 0.2843\n",
      "Epoch 20/200\n",
      "46/46 [==============================] - 0s 4ms/step - loss: 0.3169 - val_loss: 0.2802\n",
      "Epoch 21/200\n",
      "46/46 [==============================] - 0s 4ms/step - loss: 0.3112 - val_loss: 0.2743\n",
      "Epoch 22/200\n",
      "46/46 [==============================] - 0s 4ms/step - loss: 0.3053 - val_loss: 0.2698\n",
      "Epoch 23/200\n",
      "46/46 [==============================] - 0s 4ms/step - loss: 0.2994 - val_loss: 0.2660\n",
      "Epoch 24/200\n",
      "46/46 [==============================] - 0s 4ms/step - loss: 0.2942 - val_loss: 0.2618\n",
      "Epoch 25/200\n",
      "46/46 [==============================] - 0s 4ms/step - loss: 0.2894 - val_loss: 0.2582\n",
      "Epoch 26/200\n",
      "46/46 [==============================] - 0s 4ms/step - loss: 0.2857 - val_loss: 0.2542\n",
      "Epoch 27/200\n",
      "46/46 [==============================] - 0s 4ms/step - loss: 0.2810 - val_loss: 0.2510\n",
      "Epoch 28/200\n",
      "46/46 [==============================] - 0s 4ms/step - loss: 0.2774 - val_loss: 0.2488\n",
      "Epoch 29/200\n",
      "46/46 [==============================] - 0s 4ms/step - loss: 0.2740 - val_loss: 0.2459\n",
      "Epoch 30/200\n",
      "46/46 [==============================] - 0s 4ms/step - loss: 0.2709 - val_loss: 0.2431\n",
      "Epoch 31/200\n",
      "46/46 [==============================] - 0s 4ms/step - loss: 0.2667 - val_loss: 0.2411\n",
      "Epoch 32/200\n",
      "46/46 [==============================] - 0s 4ms/step - loss: 0.2634 - val_loss: 0.2384\n",
      "Epoch 33/200\n",
      "46/46 [==============================] - 0s 4ms/step - loss: 0.2617 - val_loss: 0.2369\n",
      "Epoch 34/200\n",
      "46/46 [==============================] - 0s 4ms/step - loss: 0.2595 - val_loss: 0.2344\n",
      "Epoch 35/200\n",
      "46/46 [==============================] - 0s 4ms/step - loss: 0.2570 - val_loss: 0.2325\n",
      "Epoch 36/200\n",
      "46/46 [==============================] - 0s 4ms/step - loss: 0.2551 - val_loss: 0.2306\n",
      "Epoch 37/200\n",
      "46/46 [==============================] - 0s 4ms/step - loss: 0.2531 - val_loss: 0.2288\n",
      "Epoch 38/200\n",
      "46/46 [==============================] - 0s 4ms/step - loss: 0.2506 - val_loss: 0.2274\n",
      "Epoch 39/200\n",
      "46/46 [==============================] - 0s 4ms/step - loss: 0.2491 - val_loss: 0.2260\n",
      "Epoch 40/200\n",
      "46/46 [==============================] - 0s 4ms/step - loss: 0.2475 - val_loss: 0.2247\n",
      "Epoch 41/200\n",
      "46/46 [==============================] - 0s 4ms/step - loss: 0.2449 - val_loss: 0.2235\n",
      "Epoch 42/200\n",
      "46/46 [==============================] - 0s 4ms/step - loss: 0.2434 - val_loss: 0.2235\n",
      "Epoch 43/200\n",
      "46/46 [==============================] - 0s 4ms/step - loss: 0.2430 - val_loss: 0.2214\n",
      "Epoch 44/200\n",
      "46/46 [==============================] - 0s 4ms/step - loss: 0.2411 - val_loss: 0.2215\n",
      "Epoch 45/200\n",
      "46/46 [==============================] - 0s 4ms/step - loss: 0.2395 - val_loss: 0.2191\n",
      "Epoch 46/200\n",
      "46/46 [==============================] - 0s 4ms/step - loss: 0.2392 - val_loss: 0.2183\n",
      "Epoch 47/200\n",
      "46/46 [==============================] - 0s 4ms/step - loss: 0.2372 - val_loss: 0.2175\n",
      "Epoch 48/200\n",
      "46/46 [==============================] - 0s 4ms/step - loss: 0.2369 - val_loss: 0.2164\n",
      "Epoch 49/200\n",
      "46/46 [==============================] - 0s 4ms/step - loss: 0.2352 - val_loss: 0.2156\n",
      "Epoch 50/200\n",
      "46/46 [==============================] - 0s 4ms/step - loss: 0.2341 - val_loss: 0.2152\n",
      "Epoch 51/200\n",
      "46/46 [==============================] - 0s 4ms/step - loss: 0.2330 - val_loss: 0.2144\n",
      "Epoch 52/200\n",
      "46/46 [==============================] - 0s 4ms/step - loss: 0.2323 - val_loss: 0.2134\n",
      "Epoch 53/200\n",
      "46/46 [==============================] - 0s 4ms/step - loss: 0.2306 - val_loss: 0.2135\n",
      "Epoch 54/200\n",
      "46/46 [==============================] - 0s 4ms/step - loss: 0.2299 - val_loss: 0.2123\n",
      "Epoch 55/200\n",
      "46/46 [==============================] - 0s 4ms/step - loss: 0.2297 - val_loss: 0.2115\n",
      "Epoch 56/200\n",
      "46/46 [==============================] - 0s 4ms/step - loss: 0.2286 - val_loss: 0.2120\n",
      "Epoch 57/200\n",
      "46/46 [==============================] - 0s 4ms/step - loss: 0.2278 - val_loss: 0.2104\n",
      "Epoch 58/200\n",
      "46/46 [==============================] - 0s 4ms/step - loss: 0.2264 - val_loss: 0.2095\n",
      "Epoch 59/200\n",
      "46/46 [==============================] - 0s 4ms/step - loss: 0.2264 - val_loss: 0.2090\n",
      "Epoch 60/200\n",
      "46/46 [==============================] - 0s 4ms/step - loss: 0.2252 - val_loss: 0.2087\n",
      "Epoch 61/200\n",
      "46/46 [==============================] - 0s 4ms/step - loss: 0.2236 - val_loss: 0.2086\n",
      "Epoch 62/200\n",
      "46/46 [==============================] - 0s 4ms/step - loss: 0.2237 - val_loss: 0.2074\n",
      "Epoch 63/200\n",
      "46/46 [==============================] - 0s 4ms/step - loss: 0.2230 - val_loss: 0.2084\n",
      "Epoch 64/200\n",
      "46/46 [==============================] - 0s 4ms/step - loss: 0.2224 - val_loss: 0.2069\n",
      "Epoch 65/200\n",
      "46/46 [==============================] - 0s 4ms/step - loss: 0.2215 - val_loss: 0.2065\n",
      "Epoch 66/200\n",
      "46/46 [==============================] - 0s 4ms/step - loss: 0.2211 - val_loss: 0.2054\n",
      "Epoch 67/200\n",
      "46/46 [==============================] - 0s 4ms/step - loss: 0.2201 - val_loss: 0.2050\n",
      "Epoch 68/200\n",
      "46/46 [==============================] - 0s 4ms/step - loss: 0.2195 - val_loss: 0.2048\n",
      "Epoch 69/200\n",
      "46/46 [==============================] - 0s 4ms/step - loss: 0.2189 - val_loss: 0.2056\n",
      "Epoch 70/200\n",
      "46/46 [==============================] - 0s 4ms/step - loss: 0.2184 - val_loss: 0.2043\n",
      "Epoch 71/200\n",
      "46/46 [==============================] - 0s 4ms/step - loss: 0.2178 - val_loss: 0.2040\n",
      "Epoch 72/200\n",
      "46/46 [==============================] - 0s 4ms/step - loss: 0.2173 - val_loss: 0.2031\n",
      "Epoch 73/200\n",
      "46/46 [==============================] - 0s 4ms/step - loss: 0.2164 - val_loss: 0.2028\n",
      "Epoch 74/200\n",
      "46/46 [==============================] - 0s 4ms/step - loss: 0.2160 - val_loss: 0.2030\n",
      "Epoch 75/200\n",
      "46/46 [==============================] - 0s 4ms/step - loss: 0.2148 - val_loss: 0.2024\n",
      "Epoch 76/200\n",
      "46/46 [==============================] - 0s 4ms/step - loss: 0.2145 - val_loss: 0.2024\n",
      "Epoch 77/200\n",
      "46/46 [==============================] - 0s 4ms/step - loss: 0.2142 - val_loss: 0.2013\n",
      "Epoch 78/200\n",
      "46/46 [==============================] - 0s 4ms/step - loss: 0.2142 - val_loss: 0.2011\n",
      "Epoch 79/200\n",
      "46/46 [==============================] - 0s 4ms/step - loss: 0.2127 - val_loss: 0.2007\n",
      "Epoch 80/200\n",
      "46/46 [==============================] - 0s 4ms/step - loss: 0.2126 - val_loss: 0.2002\n",
      "Epoch 81/200\n",
      "46/46 [==============================] - 0s 4ms/step - loss: 0.2121 - val_loss: 0.2001\n",
      "Epoch 82/200\n",
      "46/46 [==============================] - 0s 4ms/step - loss: 0.2121 - val_loss: 0.2008\n",
      "Epoch 83/200\n",
      "46/46 [==============================] - 0s 4ms/step - loss: 0.2115 - val_loss: 0.1999\n",
      "Epoch 84/200\n",
      "46/46 [==============================] - 0s 4ms/step - loss: 0.2109 - val_loss: 0.1996\n",
      "Epoch 85/200\n",
      "46/46 [==============================] - 0s 4ms/step - loss: 0.2107 - val_loss: 0.1994\n",
      "Epoch 86/200\n",
      "46/46 [==============================] - 0s 4ms/step - loss: 0.2098 - val_loss: 0.1988\n",
      "Epoch 87/200\n",
      "46/46 [==============================] - 0s 4ms/step - loss: 0.2095 - val_loss: 0.1986\n",
      "Epoch 88/200\n",
      "46/46 [==============================] - 0s 4ms/step - loss: 0.2088 - val_loss: 0.1983\n",
      "Epoch 89/200\n",
      "46/46 [==============================] - 0s 4ms/step - loss: 0.2090 - val_loss: 0.1981\n",
      "Epoch 90/200\n",
      "46/46 [==============================] - 0s 4ms/step - loss: 0.2082 - val_loss: 0.1984\n",
      "Epoch 91/200\n",
      "46/46 [==============================] - 0s 4ms/step - loss: 0.2080 - val_loss: 0.1983\n",
      "Epoch 92/200\n",
      "46/46 [==============================] - 0s 4ms/step - loss: 0.2078 - val_loss: 0.1977\n",
      "Epoch 93/200\n",
      "46/46 [==============================] - 0s 4ms/step - loss: 0.2065 - val_loss: 0.1971\n",
      "Epoch 94/200\n",
      "46/46 [==============================] - 0s 4ms/step - loss: 0.2063 - val_loss: 0.1971\n",
      "Epoch 95/200\n",
      "46/46 [==============================] - 0s 4ms/step - loss: 0.2063 - val_loss: 0.1969\n",
      "Epoch 96/200\n",
      "46/46 [==============================] - 0s 4ms/step - loss: 0.2063 - val_loss: 0.1966\n",
      "Epoch 97/200\n",
      "46/46 [==============================] - 0s 4ms/step - loss: 0.2055 - val_loss: 0.1964\n",
      "Epoch 98/200\n",
      "46/46 [==============================] - 0s 4ms/step - loss: 0.2048 - val_loss: 0.1962\n",
      "Epoch 99/200\n",
      "46/46 [==============================] - 0s 4ms/step - loss: 0.2045 - val_loss: 0.1960\n",
      "Epoch 100/200\n",
      "46/46 [==============================] - 0s 4ms/step - loss: 0.2045 - val_loss: 0.1965\n",
      "Epoch 101/200\n",
      "46/46 [==============================] - 0s 4ms/step - loss: 0.2040 - val_loss: 0.1954\n",
      "Epoch 102/200\n",
      "46/46 [==============================] - 0s 4ms/step - loss: 0.2038 - val_loss: 0.1957\n",
      "Epoch 103/200\n",
      "46/46 [==============================] - 0s 4ms/step - loss: 0.2039 - val_loss: 0.1951\n",
      "Epoch 104/200\n",
      "46/46 [==============================] - 0s 4ms/step - loss: 0.2024 - val_loss: 0.1954\n",
      "Epoch 105/200\n",
      "46/46 [==============================] - 0s 4ms/step - loss: 0.2028 - val_loss: 0.1946\n",
      "Epoch 106/200\n",
      "46/46 [==============================] - 0s 4ms/step - loss: 0.2023 - val_loss: 0.1945\n",
      "Epoch 107/200\n",
      "46/46 [==============================] - 0s 4ms/step - loss: 0.2013 - val_loss: 0.1946\n",
      "Epoch 108/200\n",
      "46/46 [==============================] - 0s 4ms/step - loss: 0.2019 - val_loss: 0.1944\n",
      "Epoch 109/200\n",
      "46/46 [==============================] - 0s 4ms/step - loss: 0.2018 - val_loss: 0.1949\n",
      "Epoch 110/200\n",
      "46/46 [==============================] - 0s 4ms/step - loss: 0.2011 - val_loss: 0.1942\n",
      "Epoch 111/200\n",
      "46/46 [==============================] - 0s 4ms/step - loss: 0.2012 - val_loss: 0.1938\n",
      "Epoch 112/200\n",
      "46/46 [==============================] - 0s 4ms/step - loss: 0.1999 - val_loss: 0.1937\n",
      "Epoch 113/200\n",
      "46/46 [==============================] - 0s 4ms/step - loss: 0.1997 - val_loss: 0.1934\n",
      "Epoch 114/200\n",
      "46/46 [==============================] - 0s 4ms/step - loss: 0.2001 - val_loss: 0.1933\n",
      "Epoch 115/200\n",
      "46/46 [==============================] - 0s 4ms/step - loss: 0.1989 - val_loss: 0.1933\n",
      "Epoch 116/200\n",
      "46/46 [==============================] - 0s 4ms/step - loss: 0.1992 - val_loss: 0.1931\n",
      "Epoch 117/200\n",
      "46/46 [==============================] - 0s 4ms/step - loss: 0.1987 - val_loss: 0.1938\n",
      "Epoch 118/200\n",
      "46/46 [==============================] - 0s 4ms/step - loss: 0.1983 - val_loss: 0.1925\n",
      "Epoch 119/200\n",
      "46/46 [==============================] - 0s 4ms/step - loss: 0.1983 - val_loss: 0.1923\n",
      "Epoch 120/200\n",
      "46/46 [==============================] - 0s 4ms/step - loss: 0.1981 - val_loss: 0.1926\n",
      "Epoch 121/200\n",
      "46/46 [==============================] - 0s 4ms/step - loss: 0.1979 - val_loss: 0.1921\n",
      "Epoch 122/200\n",
      "46/46 [==============================] - 0s 4ms/step - loss: 0.1971 - val_loss: 0.1923\n",
      "Epoch 123/200\n",
      "46/46 [==============================] - 0s 4ms/step - loss: 0.1973 - val_loss: 0.1932\n",
      "Epoch 124/200\n",
      "46/46 [==============================] - 0s 4ms/step - loss: 0.1967 - val_loss: 0.1917\n",
      "Epoch 125/200\n",
      "46/46 [==============================] - 0s 4ms/step - loss: 0.1965 - val_loss: 0.1920\n",
      "Epoch 126/200\n",
      "46/46 [==============================] - 0s 4ms/step - loss: 0.1964 - val_loss: 0.1914\n",
      "Epoch 127/200\n",
      "46/46 [==============================] - 0s 4ms/step - loss: 0.1969 - val_loss: 0.1918\n",
      "Epoch 128/200\n",
      "46/46 [==============================] - 0s 4ms/step - loss: 0.1960 - val_loss: 0.1919\n",
      "Epoch 129/200\n",
      "46/46 [==============================] - 0s 4ms/step - loss: 0.1957 - val_loss: 0.1914\n",
      "Epoch 130/200\n",
      "46/46 [==============================] - 0s 4ms/step - loss: 0.1958 - val_loss: 0.1911\n",
      "Epoch 131/200\n",
      "46/46 [==============================] - 0s 4ms/step - loss: 0.1949 - val_loss: 0.1909\n",
      "Epoch 132/200\n",
      "46/46 [==============================] - 0s 4ms/step - loss: 0.1950 - val_loss: 0.1926\n",
      "Epoch 133/200\n",
      "46/46 [==============================] - 0s 4ms/step - loss: 0.1949 - val_loss: 0.1911\n",
      "Epoch 134/200\n",
      "46/46 [==============================] - 0s 4ms/step - loss: 0.1946 - val_loss: 0.1910\n",
      "Epoch 135/200\n",
      "46/46 [==============================] - 0s 4ms/step - loss: 0.1938 - val_loss: 0.1910\n",
      "Epoch 136/200\n",
      "46/46 [==============================] - 0s 4ms/step - loss: 0.1943 - val_loss: 0.1905\n",
      "Epoch 137/200\n",
      "46/46 [==============================] - 0s 4ms/step - loss: 0.1939 - val_loss: 0.1906\n",
      "Epoch 138/200\n",
      "46/46 [==============================] - 0s 4ms/step - loss: 0.1938 - val_loss: 0.1920\n",
      "Epoch 139/200\n",
      "46/46 [==============================] - 0s 4ms/step - loss: 0.1938 - val_loss: 0.1902\n",
      "Epoch 140/200\n",
      "46/46 [==============================] - 0s 4ms/step - loss: 0.1935 - val_loss: 0.1898\n",
      "Epoch 141/200\n",
      "46/46 [==============================] - 0s 4ms/step - loss: 0.1926 - val_loss: 0.1899\n",
      "Epoch 142/200\n",
      "46/46 [==============================] - 0s 4ms/step - loss: 0.1927 - val_loss: 0.1914\n",
      "Epoch 143/200\n",
      "46/46 [==============================] - 0s 4ms/step - loss: 0.1937 - val_loss: 0.1900\n",
      "Epoch 144/200\n",
      "46/46 [==============================] - 0s 4ms/step - loss: 0.1929 - val_loss: 0.1903\n",
      "Epoch 145/200\n",
      "46/46 [==============================] - 0s 4ms/step - loss: 0.1919 - val_loss: 0.1895\n",
      "Epoch 146/200\n",
      "46/46 [==============================] - 0s 4ms/step - loss: 0.1914 - val_loss: 0.1894\n",
      "Epoch 147/200\n",
      "46/46 [==============================] - 0s 4ms/step - loss: 0.1921 - val_loss: 0.1904\n",
      "Epoch 148/200\n",
      "46/46 [==============================] - 0s 4ms/step - loss: 0.1918 - val_loss: 0.1909\n",
      "Epoch 149/200\n",
      "46/46 [==============================] - 0s 4ms/step - loss: 0.1919 - val_loss: 0.1889\n",
      "Epoch 150/200\n",
      "46/46 [==============================] - 0s 4ms/step - loss: 0.1909 - val_loss: 0.1892\n",
      "Epoch 151/200\n",
      "46/46 [==============================] - 0s 4ms/step - loss: 0.1915 - val_loss: 0.1892\n",
      "Epoch 152/200\n",
      "46/46 [==============================] - 0s 4ms/step - loss: 0.1907 - val_loss: 0.1887\n",
      "Epoch 153/200\n",
      "46/46 [==============================] - 0s 4ms/step - loss: 0.1911 - val_loss: 0.1904\n",
      "Epoch 154/200\n",
      "46/46 [==============================] - 0s 4ms/step - loss: 0.1907 - val_loss: 0.1883\n",
      "Epoch 155/200\n",
      "46/46 [==============================] - 0s 4ms/step - loss: 0.1906 - val_loss: 0.1891\n",
      "Epoch 156/200\n",
      "46/46 [==============================] - 0s 4ms/step - loss: 0.1901 - val_loss: 0.1889\n",
      "Epoch 157/200\n",
      "46/46 [==============================] - 0s 4ms/step - loss: 0.1898 - val_loss: 0.1881\n",
      "Epoch 158/200\n",
      "46/46 [==============================] - 0s 4ms/step - loss: 0.1896 - val_loss: 0.1885\n",
      "Epoch 159/200\n",
      "46/46 [==============================] - 0s 4ms/step - loss: 0.1901 - val_loss: 0.1880\n",
      "Epoch 160/200\n",
      "46/46 [==============================] - 0s 4ms/step - loss: 0.1892 - val_loss: 0.1879\n",
      "Epoch 161/200\n",
      "46/46 [==============================] - 0s 4ms/step - loss: 0.1900 - val_loss: 0.1881\n",
      "Epoch 162/200\n",
      "46/46 [==============================] - 0s 4ms/step - loss: 0.1893 - val_loss: 0.1890\n",
      "Epoch 163/200\n",
      "46/46 [==============================] - 0s 4ms/step - loss: 0.1889 - val_loss: 0.1880\n",
      "Epoch 164/200\n",
      "46/46 [==============================] - 0s 4ms/step - loss: 0.1887 - val_loss: 0.1883\n",
      "Epoch 165/200\n",
      "46/46 [==============================] - 0s 4ms/step - loss: 0.1886 - val_loss: 0.1878\n",
      "Epoch 166/200\n",
      "46/46 [==============================] - 0s 4ms/step - loss: 0.1889 - val_loss: 0.1877\n",
      "Epoch 167/200\n",
      "46/46 [==============================] - 0s 4ms/step - loss: 0.1884 - val_loss: 0.1880\n",
      "Epoch 168/200\n",
      "46/46 [==============================] - 0s 4ms/step - loss: 0.1882 - val_loss: 0.1911\n",
      "Epoch 169/200\n",
      "46/46 [==============================] - 0s 4ms/step - loss: 0.1887 - val_loss: 0.1879\n",
      "Epoch 170/200\n",
      "46/46 [==============================] - 0s 4ms/step - loss: 0.1879 - val_loss: 0.1880\n",
      "Epoch 171/200\n",
      "46/46 [==============================] - 0s 4ms/step - loss: 0.1880 - val_loss: 0.1878\n",
      "Stopped fitting after 171 epochs\n",
      "Saved model to disk in /tmp/tmpv21tf2p7\n"
     ]
    },
    {
     "data": {
      "text/plain": [
       "<deepimpute.multinet.MultiNet at 0x7f40a3013b50>"
      ]
     },
     "execution_count": 63,
     "metadata": {},
     "output_type": "execute_result"
    }
   ],
   "source": [
    "# Using 80% of the data\n",
    "#multinet.fit(data,cell_subset=0.5,genes_to_impute=['IL11RA','IL11','IL6','IL6R','LIF','LIFR','OSM','OSMR','IL6ST'])"
   ]
  },
  {
   "cell_type": "code",
   "execution_count": 164,
   "metadata": {
    "collapsed": true,
    "jupyter": {
     "outputs_hidden": true,
     "source_hidden": true
    },
    "tags": []
   },
   "outputs": [
    {
     "name": "stdout",
     "output_type": "stream",
     "text": [
      "Input dataset is 24290 cells (rows) and 19076 genes (columns)\n",
      "First 3 rows and columns:\n",
      "                       7SK  A1BG  A1BG-AS1\n",
      "N7.LPA.AAACATACCATTTC    0     0         0\n",
      "N7.LPA.AAACGCACCCGATA    0     0         0\n",
      "N7.LPA.AAACGCTGTATCGG    0     0         0\n",
      "1536 genes selected for imputation\n",
      "Net 0: 1286 predictors, 512 targets\n",
      "Net 1: 1222 predictors, 512 targets\n",
      "Net 2: 1367 predictors, 512 targets\n",
      "Normalization\n",
      "Building network\n",
      "[{'type': 'dense', 'activation': 'relu', 'neurons': 256}, {'type': 'dropout', 'activation': 'dropout', 'rate': 0.2}]\n",
      "Fitting with 200 cells\n",
      "Epoch 1/200\n"
     ]
    },
    {
     "name": "stderr",
     "output_type": "stream",
     "text": [
      "/mnt/rstudio/smohammed/.local/lib/python3.9/site-packages/keras/optimizer_v2/adam.py:105: UserWarning: The `lr` argument is deprecated, use `learning_rate` instead.\n",
      "  super(Adam, self).__init__(name, **kwargs)\n"
     ]
    },
    {
     "name": "stdout",
     "output_type": "stream",
     "text": [
      "3/3 [==============================] - 1s 101ms/step - loss: 2.7562 - dense_7_loss: 0.7935 - dense_8_loss: 1.0013 - dense_9_loss: 0.9614 - val_loss: 2.1634 - val_dense_7_loss: 0.5830 - val_dense_8_loss: 0.7880 - val_dense_9_loss: 0.7924\n",
      "Epoch 2/200\n",
      "3/3 [==============================] - 0s 16ms/step - loss: 2.6315 - dense_7_loss: 0.7553 - dense_8_loss: 0.9631 - dense_9_loss: 0.9132 - val_loss: 2.0548 - val_dense_7_loss: 0.5493 - val_dense_8_loss: 0.7558 - val_dense_9_loss: 0.7497\n",
      "Epoch 3/200\n",
      "3/3 [==============================] - 0s 16ms/step - loss: 2.4963 - dense_7_loss: 0.7108 - dense_8_loss: 0.9209 - dense_9_loss: 0.8646 - val_loss: 1.9448 - val_dense_7_loss: 0.5155 - val_dense_8_loss: 0.7230 - val_dense_9_loss: 0.7063\n",
      "Epoch 4/200\n",
      "3/3 [==============================] - 0s 16ms/step - loss: 2.3643 - dense_7_loss: 0.6661 - dense_8_loss: 0.8793 - dense_9_loss: 0.8188 - val_loss: 1.8336 - val_dense_7_loss: 0.4813 - val_dense_8_loss: 0.6894 - val_dense_9_loss: 0.6629\n",
      "Epoch 5/200\n",
      "3/3 [==============================] - 0s 16ms/step - loss: 2.2298 - dense_7_loss: 0.6279 - dense_8_loss: 0.8363 - dense_9_loss: 0.7655 - val_loss: 1.7222 - val_dense_7_loss: 0.4477 - val_dense_8_loss: 0.6552 - val_dense_9_loss: 0.6193\n",
      "Epoch 6/200\n",
      "3/3 [==============================] - 0s 16ms/step - loss: 2.1058 - dense_7_loss: 0.5907 - dense_8_loss: 0.7972 - dense_9_loss: 0.7179 - val_loss: 1.6092 - val_dense_7_loss: 0.4145 - val_dense_8_loss: 0.6198 - val_dense_9_loss: 0.5749\n",
      "Epoch 7/200\n",
      "3/3 [==============================] - 0s 16ms/step - loss: 1.9740 - dense_7_loss: 0.5499 - dense_8_loss: 0.7511 - dense_9_loss: 0.6730 - val_loss: 1.4967 - val_dense_7_loss: 0.3824 - val_dense_8_loss: 0.5834 - val_dense_9_loss: 0.5308\n",
      "Epoch 8/200\n",
      "3/3 [==============================] - 0s 16ms/step - loss: 1.8540 - dense_7_loss: 0.5168 - dense_8_loss: 0.7070 - dense_9_loss: 0.6302 - val_loss: 1.3850 - val_dense_7_loss: 0.3517 - val_dense_8_loss: 0.5459 - val_dense_9_loss: 0.4875\n",
      "Epoch 9/200\n",
      "3/3 [==============================] - 0s 16ms/step - loss: 1.7344 - dense_7_loss: 0.4832 - dense_8_loss: 0.6679 - dense_9_loss: 0.5833 - val_loss: 1.2747 - val_dense_7_loss: 0.3231 - val_dense_8_loss: 0.5075 - val_dense_9_loss: 0.4442\n",
      "Epoch 10/200\n",
      "3/3 [==============================] - 0s 16ms/step - loss: 1.6135 - dense_7_loss: 0.4521 - dense_8_loss: 0.6190 - dense_9_loss: 0.5424 - val_loss: 1.1679 - val_dense_7_loss: 0.2968 - val_dense_8_loss: 0.4690 - val_dense_9_loss: 0.4021\n",
      "Epoch 11/200\n",
      "3/3 [==============================] - 0s 18ms/step - loss: 1.5092 - dense_7_loss: 0.4293 - dense_8_loss: 0.5797 - dense_9_loss: 0.5003 - val_loss: 1.0665 - val_dense_7_loss: 0.2733 - val_dense_8_loss: 0.4308 - val_dense_9_loss: 0.3623\n",
      "Epoch 12/200\n",
      "3/3 [==============================] - 0s 16ms/step - loss: 1.4126 - dense_7_loss: 0.4016 - dense_8_loss: 0.5389 - dense_9_loss: 0.4721 - val_loss: 0.9705 - val_dense_7_loss: 0.2522 - val_dense_8_loss: 0.3934 - val_dense_9_loss: 0.3249\n",
      "Epoch 13/200\n",
      "3/3 [==============================] - 0s 16ms/step - loss: 1.3218 - dense_7_loss: 0.3818 - dense_8_loss: 0.5031 - dense_9_loss: 0.4370 - val_loss: 0.8826 - val_dense_7_loss: 0.2336 - val_dense_8_loss: 0.3577 - val_dense_9_loss: 0.2913\n",
      "Epoch 14/200\n",
      "3/3 [==============================] - 0s 16ms/step - loss: 1.2268 - dense_7_loss: 0.3599 - dense_8_loss: 0.4629 - dense_9_loss: 0.4040 - val_loss: 0.8023 - val_dense_7_loss: 0.2170 - val_dense_8_loss: 0.3238 - val_dense_9_loss: 0.2615\n",
      "Epoch 15/200\n",
      "3/3 [==============================] - 0s 16ms/step - loss: 1.1554 - dense_7_loss: 0.3406 - dense_8_loss: 0.4290 - dense_9_loss: 0.3859 - val_loss: 0.7288 - val_dense_7_loss: 0.2019 - val_dense_8_loss: 0.2917 - val_dense_9_loss: 0.2352\n",
      "Epoch 16/200\n",
      "3/3 [==============================] - 0s 16ms/step - loss: 1.0795 - dense_7_loss: 0.3223 - dense_8_loss: 0.3990 - dense_9_loss: 0.3582 - val_loss: 0.6628 - val_dense_7_loss: 0.1883 - val_dense_8_loss: 0.2619 - val_dense_9_loss: 0.2126\n",
      "Epoch 17/200\n",
      "3/3 [==============================] - 0s 16ms/step - loss: 1.0056 - dense_7_loss: 0.3045 - dense_8_loss: 0.3646 - dense_9_loss: 0.3366 - val_loss: 0.6035 - val_dense_7_loss: 0.1757 - val_dense_8_loss: 0.2347 - val_dense_9_loss: 0.1931\n",
      "Epoch 18/200\n",
      "3/3 [==============================] - 0s 16ms/step - loss: 0.9597 - dense_7_loss: 0.2940 - dense_8_loss: 0.3411 - dense_9_loss: 0.3246 - val_loss: 0.5514 - val_dense_7_loss: 0.1642 - val_dense_8_loss: 0.2102 - val_dense_9_loss: 0.1770\n",
      "Epoch 19/200\n",
      "3/3 [==============================] - 0s 16ms/step - loss: 0.9052 - dense_7_loss: 0.2817 - dense_8_loss: 0.3213 - dense_9_loss: 0.3023 - val_loss: 0.5056 - val_dense_7_loss: 0.1537 - val_dense_8_loss: 0.1887 - val_dense_9_loss: 0.1632\n",
      "Epoch 20/200\n",
      "3/3 [==============================] - 0s 16ms/step - loss: 0.8528 - dense_7_loss: 0.2674 - dense_8_loss: 0.2965 - dense_9_loss: 0.2889 - val_loss: 0.4661 - val_dense_7_loss: 0.1441 - val_dense_8_loss: 0.1706 - val_dense_9_loss: 0.1514\n",
      "Epoch 21/200\n",
      "3/3 [==============================] - 0s 16ms/step - loss: 0.8125 - dense_7_loss: 0.2530 - dense_8_loss: 0.2775 - dense_9_loss: 0.2820 - val_loss: 0.4332 - val_dense_7_loss: 0.1357 - val_dense_8_loss: 0.1557 - val_dense_9_loss: 0.1419\n",
      "Epoch 22/200\n",
      "3/3 [==============================] - 0s 16ms/step - loss: 0.7736 - dense_7_loss: 0.2417 - dense_8_loss: 0.2678 - dense_9_loss: 0.2641 - val_loss: 0.4053 - val_dense_7_loss: 0.1282 - val_dense_8_loss: 0.1437 - val_dense_9_loss: 0.1335\n",
      "Epoch 23/200\n",
      "3/3 [==============================] - 0s 16ms/step - loss: 0.7500 - dense_7_loss: 0.2335 - dense_8_loss: 0.2551 - dense_9_loss: 0.2614 - val_loss: 0.3827 - val_dense_7_loss: 0.1216 - val_dense_8_loss: 0.1345 - val_dense_9_loss: 0.1266\n",
      "Epoch 24/200\n",
      "3/3 [==============================] - 0s 16ms/step - loss: 0.7214 - dense_7_loss: 0.2248 - dense_8_loss: 0.2467 - dense_9_loss: 0.2499 - val_loss: 0.3645 - val_dense_7_loss: 0.1158 - val_dense_8_loss: 0.1275 - val_dense_9_loss: 0.1213\n",
      "Epoch 25/200\n",
      "3/3 [==============================] - 0s 16ms/step - loss: 0.6966 - dense_7_loss: 0.2138 - dense_8_loss: 0.2380 - dense_9_loss: 0.2449 - val_loss: 0.3493 - val_dense_7_loss: 0.1107 - val_dense_8_loss: 0.1222 - val_dense_9_loss: 0.1164\n",
      "Epoch 26/200\n",
      "3/3 [==============================] - 0s 16ms/step - loss: 0.6776 - dense_7_loss: 0.2087 - dense_8_loss: 0.2298 - dense_9_loss: 0.2391 - val_loss: 0.3372 - val_dense_7_loss: 0.1065 - val_dense_8_loss: 0.1185 - val_dense_9_loss: 0.1123\n",
      "Epoch 27/200\n",
      "3/3 [==============================] - 0s 16ms/step - loss: 0.6533 - dense_7_loss: 0.2039 - dense_8_loss: 0.2215 - dense_9_loss: 0.2279 - val_loss: 0.3273 - val_dense_7_loss: 0.1028 - val_dense_8_loss: 0.1157 - val_dense_9_loss: 0.1087\n",
      "Epoch 28/200\n",
      "3/3 [==============================] - 0s 16ms/step - loss: 0.6378 - dense_7_loss: 0.1996 - dense_8_loss: 0.2165 - dense_9_loss: 0.2218 - val_loss: 0.3201 - val_dense_7_loss: 0.1000 - val_dense_8_loss: 0.1139 - val_dense_9_loss: 0.1062\n",
      "Epoch 29/200\n",
      "3/3 [==============================] - 0s 16ms/step - loss: 0.6212 - dense_7_loss: 0.1905 - dense_8_loss: 0.2131 - dense_9_loss: 0.2176 - val_loss: 0.3141 - val_dense_7_loss: 0.0978 - val_dense_8_loss: 0.1123 - val_dense_9_loss: 0.1040\n",
      "Epoch 30/200\n",
      "3/3 [==============================] - 0s 16ms/step - loss: 0.6146 - dense_7_loss: 0.1880 - dense_8_loss: 0.2125 - dense_9_loss: 0.2142 - val_loss: 0.3091 - val_dense_7_loss: 0.0960 - val_dense_8_loss: 0.1110 - val_dense_9_loss: 0.1021\n",
      "Epoch 31/200\n",
      "3/3 [==============================] - 0s 16ms/step - loss: 0.6040 - dense_7_loss: 0.1834 - dense_8_loss: 0.2096 - dense_9_loss: 0.2109 - val_loss: 0.3052 - val_dense_7_loss: 0.0945 - val_dense_8_loss: 0.1099 - val_dense_9_loss: 0.1008\n",
      "Epoch 32/200\n",
      "3/3 [==============================] - 0s 16ms/step - loss: 0.5984 - dense_7_loss: 0.1814 - dense_8_loss: 0.2079 - dense_9_loss: 0.2091 - val_loss: 0.3019 - val_dense_7_loss: 0.0935 - val_dense_8_loss: 0.1088 - val_dense_9_loss: 0.0997\n",
      "Epoch 33/200\n",
      "3/3 [==============================] - 0s 16ms/step - loss: 0.5846 - dense_7_loss: 0.1798 - dense_8_loss: 0.2016 - dense_9_loss: 0.2032 - val_loss: 0.2994 - val_dense_7_loss: 0.0925 - val_dense_8_loss: 0.1078 - val_dense_9_loss: 0.0990\n",
      "Epoch 34/200\n",
      "3/3 [==============================] - 0s 16ms/step - loss: 0.5791 - dense_7_loss: 0.1765 - dense_8_loss: 0.1979 - dense_9_loss: 0.2047 - val_loss: 0.2971 - val_dense_7_loss: 0.0915 - val_dense_8_loss: 0.1071 - val_dense_9_loss: 0.0984\n",
      "Epoch 35/200\n",
      "3/3 [==============================] - 0s 16ms/step - loss: 0.5667 - dense_7_loss: 0.1754 - dense_8_loss: 0.1958 - dense_9_loss: 0.1955 - val_loss: 0.2959 - val_dense_7_loss: 0.0909 - val_dense_8_loss: 0.1066 - val_dense_9_loss: 0.0984\n",
      "Epoch 36/200\n",
      "3/3 [==============================] - 0s 16ms/step - loss: 0.5642 - dense_7_loss: 0.1738 - dense_8_loss: 0.1965 - dense_9_loss: 0.1939 - val_loss: 0.2943 - val_dense_7_loss: 0.0903 - val_dense_8_loss: 0.1061 - val_dense_9_loss: 0.0979\n",
      "Epoch 37/200\n",
      "3/3 [==============================] - 0s 17ms/step - loss: 0.5626 - dense_7_loss: 0.1724 - dense_8_loss: 0.1956 - dense_9_loss: 0.1946 - val_loss: 0.2924 - val_dense_7_loss: 0.0899 - val_dense_8_loss: 0.1053 - val_dense_9_loss: 0.0972\n",
      "Epoch 38/200\n",
      "3/3 [==============================] - 0s 18ms/step - loss: 0.5492 - dense_7_loss: 0.1666 - dense_8_loss: 0.1917 - dense_9_loss: 0.1909 - val_loss: 0.2908 - val_dense_7_loss: 0.0896 - val_dense_8_loss: 0.1046 - val_dense_9_loss: 0.0966\n",
      "Epoch 39/200\n",
      "3/3 [==============================] - 0s 16ms/step - loss: 0.5447 - dense_7_loss: 0.1655 - dense_8_loss: 0.1897 - dense_9_loss: 0.1896 - val_loss: 0.2894 - val_dense_7_loss: 0.0893 - val_dense_8_loss: 0.1041 - val_dense_9_loss: 0.0960\n",
      "Epoch 40/200\n",
      "3/3 [==============================] - 0s 16ms/step - loss: 0.5373 - dense_7_loss: 0.1618 - dense_8_loss: 0.1877 - dense_9_loss: 0.1878 - val_loss: 0.2876 - val_dense_7_loss: 0.0890 - val_dense_8_loss: 0.1036 - val_dense_9_loss: 0.0951\n",
      "Epoch 41/200\n",
      "3/3 [==============================] - 0s 16ms/step - loss: 0.5373 - dense_7_loss: 0.1643 - dense_8_loss: 0.1880 - dense_9_loss: 0.1850 - val_loss: 0.2860 - val_dense_7_loss: 0.0888 - val_dense_8_loss: 0.1032 - val_dense_9_loss: 0.0940\n",
      "Epoch 42/200\n",
      "3/3 [==============================] - 0s 16ms/step - loss: 0.5216 - dense_7_loss: 0.1587 - dense_8_loss: 0.1827 - dense_9_loss: 0.1802 - val_loss: 0.2846 - val_dense_7_loss: 0.0884 - val_dense_8_loss: 0.1029 - val_dense_9_loss: 0.0933\n",
      "Epoch 43/200\n",
      "3/3 [==============================] - 0s 16ms/step - loss: 0.5270 - dense_7_loss: 0.1620 - dense_8_loss: 0.1833 - dense_9_loss: 0.1818 - val_loss: 0.2835 - val_dense_7_loss: 0.0881 - val_dense_8_loss: 0.1026 - val_dense_9_loss: 0.0928\n",
      "Epoch 44/200\n",
      "3/3 [==============================] - 0s 16ms/step - loss: 0.5160 - dense_7_loss: 0.1567 - dense_8_loss: 0.1826 - dense_9_loss: 0.1767 - val_loss: 0.2826 - val_dense_7_loss: 0.0876 - val_dense_8_loss: 0.1024 - val_dense_9_loss: 0.0925\n",
      "Epoch 45/200\n",
      "3/3 [==============================] - 0s 16ms/step - loss: 0.5161 - dense_7_loss: 0.1564 - dense_8_loss: 0.1826 - dense_9_loss: 0.1771 - val_loss: 0.2819 - val_dense_7_loss: 0.0872 - val_dense_8_loss: 0.1023 - val_dense_9_loss: 0.0924\n",
      "Epoch 46/200\n",
      "3/3 [==============================] - 0s 16ms/step - loss: 0.5076 - dense_7_loss: 0.1533 - dense_8_loss: 0.1781 - dense_9_loss: 0.1762 - val_loss: 0.2813 - val_dense_7_loss: 0.0869 - val_dense_8_loss: 0.1020 - val_dense_9_loss: 0.0924\n",
      "Epoch 47/200\n",
      "3/3 [==============================] - 0s 16ms/step - loss: 0.5049 - dense_7_loss: 0.1531 - dense_8_loss: 0.1772 - dense_9_loss: 0.1747 - val_loss: 0.2803 - val_dense_7_loss: 0.0865 - val_dense_8_loss: 0.1020 - val_dense_9_loss: 0.0918\n",
      "Epoch 48/200\n",
      "3/3 [==============================] - 0s 16ms/step - loss: 0.5010 - dense_7_loss: 0.1504 - dense_8_loss: 0.1776 - dense_9_loss: 0.1730 - val_loss: 0.2796 - val_dense_7_loss: 0.0863 - val_dense_8_loss: 0.1020 - val_dense_9_loss: 0.0913\n",
      "Epoch 49/200\n",
      "3/3 [==============================] - 0s 18ms/step - loss: 0.4932 - dense_7_loss: 0.1506 - dense_8_loss: 0.1731 - dense_9_loss: 0.1695 - val_loss: 0.2786 - val_dense_7_loss: 0.0861 - val_dense_8_loss: 0.1018 - val_dense_9_loss: 0.0907\n",
      "Epoch 50/200\n",
      "3/3 [==============================] - 0s 16ms/step - loss: 0.4902 - dense_7_loss: 0.1505 - dense_8_loss: 0.1735 - dense_9_loss: 0.1662 - val_loss: 0.2776 - val_dense_7_loss: 0.0857 - val_dense_8_loss: 0.1017 - val_dense_9_loss: 0.0902\n",
      "Epoch 51/200\n",
      "3/3 [==============================] - 0s 16ms/step - loss: 0.4832 - dense_7_loss: 0.1449 - dense_8_loss: 0.1723 - dense_9_loss: 0.1660 - val_loss: 0.2767 - val_dense_7_loss: 0.0856 - val_dense_8_loss: 0.1015 - val_dense_9_loss: 0.0896\n",
      "Epoch 52/200\n",
      "3/3 [==============================] - 0s 16ms/step - loss: 0.4844 - dense_7_loss: 0.1453 - dense_8_loss: 0.1708 - dense_9_loss: 0.1683 - val_loss: 0.2761 - val_dense_7_loss: 0.0857 - val_dense_8_loss: 0.1012 - val_dense_9_loss: 0.0892\n",
      "Epoch 53/200\n",
      "3/3 [==============================] - 0s 16ms/step - loss: 0.4780 - dense_7_loss: 0.1448 - dense_8_loss: 0.1682 - dense_9_loss: 0.1650 - val_loss: 0.2756 - val_dense_7_loss: 0.0856 - val_dense_8_loss: 0.1008 - val_dense_9_loss: 0.0891\n",
      "Epoch 54/200\n",
      "3/3 [==============================] - 0s 16ms/step - loss: 0.4703 - dense_7_loss: 0.1433 - dense_8_loss: 0.1663 - dense_9_loss: 0.1607 - val_loss: 0.2750 - val_dense_7_loss: 0.0854 - val_dense_8_loss: 0.1005 - val_dense_9_loss: 0.0890\n",
      "Epoch 55/200\n",
      "3/3 [==============================] - 0s 16ms/step - loss: 0.4713 - dense_7_loss: 0.1435 - dense_8_loss: 0.1656 - dense_9_loss: 0.1622 - val_loss: 0.2744 - val_dense_7_loss: 0.0849 - val_dense_8_loss: 0.1002 - val_dense_9_loss: 0.0892\n",
      "Epoch 56/200\n",
      "3/3 [==============================] - 0s 16ms/step - loss: 0.4658 - dense_7_loss: 0.1396 - dense_8_loss: 0.1626 - dense_9_loss: 0.1636 - val_loss: 0.2736 - val_dense_7_loss: 0.0844 - val_dense_8_loss: 0.1000 - val_dense_9_loss: 0.0892\n",
      "Epoch 57/200\n",
      "3/3 [==============================] - 0s 16ms/step - loss: 0.4733 - dense_7_loss: 0.1432 - dense_8_loss: 0.1677 - dense_9_loss: 0.1625 - val_loss: 0.2723 - val_dense_7_loss: 0.0840 - val_dense_8_loss: 0.0997 - val_dense_9_loss: 0.0886\n",
      "Epoch 58/200\n",
      "3/3 [==============================] - 0s 16ms/step - loss: 0.4682 - dense_7_loss: 0.1432 - dense_8_loss: 0.1636 - dense_9_loss: 0.1614 - val_loss: 0.2708 - val_dense_7_loss: 0.0835 - val_dense_8_loss: 0.0994 - val_dense_9_loss: 0.0879\n",
      "Epoch 59/200\n",
      "3/3 [==============================] - 0s 16ms/step - loss: 0.4520 - dense_7_loss: 0.1387 - dense_8_loss: 0.1586 - dense_9_loss: 0.1547 - val_loss: 0.2699 - val_dense_7_loss: 0.0832 - val_dense_8_loss: 0.0993 - val_dense_9_loss: 0.0874\n",
      "Epoch 60/200\n",
      "3/3 [==============================] - 0s 16ms/step - loss: 0.4570 - dense_7_loss: 0.1400 - dense_8_loss: 0.1594 - dense_9_loss: 0.1576 - val_loss: 0.2696 - val_dense_7_loss: 0.0832 - val_dense_8_loss: 0.0994 - val_dense_9_loss: 0.0871\n",
      "Epoch 61/200\n",
      "3/3 [==============================] - 0s 16ms/step - loss: 0.4504 - dense_7_loss: 0.1350 - dense_8_loss: 0.1584 - dense_9_loss: 0.1569 - val_loss: 0.2697 - val_dense_7_loss: 0.0833 - val_dense_8_loss: 0.0995 - val_dense_9_loss: 0.0870\n",
      "Epoch 62/200\n",
      "3/3 [==============================] - 0s 16ms/step - loss: 0.4492 - dense_7_loss: 0.1356 - dense_8_loss: 0.1582 - dense_9_loss: 0.1554 - val_loss: 0.2699 - val_dense_7_loss: 0.0833 - val_dense_8_loss: 0.0994 - val_dense_9_loss: 0.0872\n",
      "Epoch 63/200\n",
      "3/3 [==============================] - 0s 16ms/step - loss: 0.4454 - dense_7_loss: 0.1327 - dense_8_loss: 0.1581 - dense_9_loss: 0.1546 - val_loss: 0.2696 - val_dense_7_loss: 0.0834 - val_dense_8_loss: 0.0990 - val_dense_9_loss: 0.0873\n",
      "Epoch 64/200\n",
      "3/3 [==============================] - 0s 16ms/step - loss: 0.4441 - dense_7_loss: 0.1340 - dense_8_loss: 0.1561 - dense_9_loss: 0.1539 - val_loss: 0.2690 - val_dense_7_loss: 0.0831 - val_dense_8_loss: 0.0987 - val_dense_9_loss: 0.0872\n",
      "Epoch 65/200\n",
      "3/3 [==============================] - 0s 16ms/step - loss: 0.4399 - dense_7_loss: 0.1335 - dense_8_loss: 0.1536 - dense_9_loss: 0.1527 - val_loss: 0.2682 - val_dense_7_loss: 0.0829 - val_dense_8_loss: 0.0985 - val_dense_9_loss: 0.0869\n",
      "Epoch 66/200\n",
      "3/3 [==============================] - 0s 16ms/step - loss: 0.4324 - dense_7_loss: 0.1288 - dense_8_loss: 0.1530 - dense_9_loss: 0.1506 - val_loss: 0.2674 - val_dense_7_loss: 0.0824 - val_dense_8_loss: 0.0984 - val_dense_9_loss: 0.0866\n",
      "Epoch 67/200\n",
      "3/3 [==============================] - 0s 16ms/step - loss: 0.4332 - dense_7_loss: 0.1321 - dense_8_loss: 0.1512 - dense_9_loss: 0.1499 - val_loss: 0.2665 - val_dense_7_loss: 0.0820 - val_dense_8_loss: 0.0984 - val_dense_9_loss: 0.0861\n",
      "Epoch 68/200\n",
      "3/3 [==============================] - 0s 16ms/step - loss: 0.4272 - dense_7_loss: 0.1304 - dense_8_loss: 0.1513 - dense_9_loss: 0.1455 - val_loss: 0.2660 - val_dense_7_loss: 0.0818 - val_dense_8_loss: 0.0984 - val_dense_9_loss: 0.0858\n",
      "Epoch 69/200\n",
      "3/3 [==============================] - 0s 17ms/step - loss: 0.4203 - dense_7_loss: 0.1272 - dense_8_loss: 0.1476 - dense_9_loss: 0.1455 - val_loss: 0.2661 - val_dense_7_loss: 0.0817 - val_dense_8_loss: 0.0983 - val_dense_9_loss: 0.0860\n",
      "Epoch 70/200\n",
      "3/3 [==============================] - 0s 16ms/step - loss: 0.4270 - dense_7_loss: 0.1292 - dense_8_loss: 0.1500 - dense_9_loss: 0.1478 - val_loss: 0.2660 - val_dense_7_loss: 0.0816 - val_dense_8_loss: 0.0984 - val_dense_9_loss: 0.0861\n",
      "Epoch 71/200\n",
      "3/3 [==============================] - 0s 16ms/step - loss: 0.4186 - dense_7_loss: 0.1287 - dense_8_loss: 0.1474 - dense_9_loss: 0.1424 - val_loss: 0.2659 - val_dense_7_loss: 0.0817 - val_dense_8_loss: 0.0982 - val_dense_9_loss: 0.0860\n",
      "Epoch 72/200\n",
      "3/3 [==============================] - 0s 16ms/step - loss: 0.4174 - dense_7_loss: 0.1253 - dense_8_loss: 0.1479 - dense_9_loss: 0.1442 - val_loss: 0.2656 - val_dense_7_loss: 0.0816 - val_dense_8_loss: 0.0982 - val_dense_9_loss: 0.0857\n",
      "Epoch 73/200\n",
      "3/3 [==============================] - 0s 17ms/step - loss: 0.4113 - dense_7_loss: 0.1256 - dense_8_loss: 0.1471 - dense_9_loss: 0.1387 - val_loss: 0.2651 - val_dense_7_loss: 0.0816 - val_dense_8_loss: 0.0980 - val_dense_9_loss: 0.0855\n",
      "Epoch 74/200\n",
      "3/3 [==============================] - 0s 16ms/step - loss: 0.4129 - dense_7_loss: 0.1261 - dense_8_loss: 0.1462 - dense_9_loss: 0.1407 - val_loss: 0.2644 - val_dense_7_loss: 0.0815 - val_dense_8_loss: 0.0975 - val_dense_9_loss: 0.0853\n",
      "Epoch 75/200\n",
      "3/3 [==============================] - 0s 16ms/step - loss: 0.4184 - dense_7_loss: 0.1261 - dense_8_loss: 0.1473 - dense_9_loss: 0.1451 - val_loss: 0.2636 - val_dense_7_loss: 0.0812 - val_dense_8_loss: 0.0972 - val_dense_9_loss: 0.0851\n",
      "Epoch 76/200\n",
      "3/3 [==============================] - 0s 16ms/step - loss: 0.4113 - dense_7_loss: 0.1237 - dense_8_loss: 0.1458 - dense_9_loss: 0.1418 - val_loss: 0.2626 - val_dense_7_loss: 0.0809 - val_dense_8_loss: 0.0969 - val_dense_9_loss: 0.0848\n",
      "Epoch 77/200\n",
      "3/3 [==============================] - 0s 16ms/step - loss: 0.4055 - dense_7_loss: 0.1215 - dense_8_loss: 0.1437 - dense_9_loss: 0.1403 - val_loss: 0.2619 - val_dense_7_loss: 0.0807 - val_dense_8_loss: 0.0967 - val_dense_9_loss: 0.0844\n",
      "Epoch 78/200\n",
      "3/3 [==============================] - 0s 16ms/step - loss: 0.4042 - dense_7_loss: 0.1205 - dense_8_loss: 0.1432 - dense_9_loss: 0.1405 - val_loss: 0.2614 - val_dense_7_loss: 0.0806 - val_dense_8_loss: 0.0966 - val_dense_9_loss: 0.0842\n",
      "Epoch 79/200\n",
      "3/3 [==============================] - 0s 16ms/step - loss: 0.4039 - dense_7_loss: 0.1221 - dense_8_loss: 0.1421 - dense_9_loss: 0.1397 - val_loss: 0.2612 - val_dense_7_loss: 0.0805 - val_dense_8_loss: 0.0965 - val_dense_9_loss: 0.0842\n",
      "Epoch 80/200\n",
      "3/3 [==============================] - 0s 16ms/step - loss: 0.3992 - dense_7_loss: 0.1196 - dense_8_loss: 0.1429 - dense_9_loss: 0.1367 - val_loss: 0.2607 - val_dense_7_loss: 0.0802 - val_dense_8_loss: 0.0965 - val_dense_9_loss: 0.0840\n",
      "Epoch 81/200\n",
      "3/3 [==============================] - 0s 16ms/step - loss: 0.3944 - dense_7_loss: 0.1177 - dense_8_loss: 0.1398 - dense_9_loss: 0.1370 - val_loss: 0.2603 - val_dense_7_loss: 0.0799 - val_dense_8_loss: 0.0965 - val_dense_9_loss: 0.0838\n",
      "Epoch 82/200\n",
      "3/3 [==============================] - 0s 16ms/step - loss: 0.3908 - dense_7_loss: 0.1196 - dense_8_loss: 0.1389 - dense_9_loss: 0.1322 - val_loss: 0.2600 - val_dense_7_loss: 0.0797 - val_dense_8_loss: 0.0965 - val_dense_9_loss: 0.0839\n",
      "Epoch 83/200\n",
      "3/3 [==============================] - 0s 16ms/step - loss: 0.3921 - dense_7_loss: 0.1181 - dense_8_loss: 0.1382 - dense_9_loss: 0.1358 - val_loss: 0.2597 - val_dense_7_loss: 0.0795 - val_dense_8_loss: 0.0965 - val_dense_9_loss: 0.0837\n",
      "Epoch 84/200\n",
      "3/3 [==============================] - 0s 17ms/step - loss: 0.3878 - dense_7_loss: 0.1188 - dense_8_loss: 0.1377 - dense_9_loss: 0.1312 - val_loss: 0.2595 - val_dense_7_loss: 0.0795 - val_dense_8_loss: 0.0964 - val_dense_9_loss: 0.0836\n",
      "Epoch 85/200\n",
      "3/3 [==============================] - 0s 16ms/step - loss: 0.3838 - dense_7_loss: 0.1170 - dense_8_loss: 0.1369 - dense_9_loss: 0.1299 - val_loss: 0.2590 - val_dense_7_loss: 0.0794 - val_dense_8_loss: 0.0961 - val_dense_9_loss: 0.0835\n",
      "Epoch 86/200\n",
      "3/3 [==============================] - 0s 16ms/step - loss: 0.3797 - dense_7_loss: 0.1153 - dense_8_loss: 0.1355 - dense_9_loss: 0.1288 - val_loss: 0.2586 - val_dense_7_loss: 0.0793 - val_dense_8_loss: 0.0958 - val_dense_9_loss: 0.0835\n",
      "Epoch 87/200\n",
      "3/3 [==============================] - 0s 16ms/step - loss: 0.3822 - dense_7_loss: 0.1164 - dense_8_loss: 0.1342 - dense_9_loss: 0.1317 - val_loss: 0.2581 - val_dense_7_loss: 0.0792 - val_dense_8_loss: 0.0957 - val_dense_9_loss: 0.0832\n",
      "Epoch 88/200\n",
      "3/3 [==============================] - 0s 16ms/step - loss: 0.3809 - dense_7_loss: 0.1133 - dense_8_loss: 0.1373 - dense_9_loss: 0.1303 - val_loss: 0.2574 - val_dense_7_loss: 0.0792 - val_dense_8_loss: 0.0955 - val_dense_9_loss: 0.0827\n",
      "Epoch 89/200\n",
      "3/3 [==============================] - 0s 16ms/step - loss: 0.3727 - dense_7_loss: 0.1143 - dense_8_loss: 0.1315 - dense_9_loss: 0.1270 - val_loss: 0.2572 - val_dense_7_loss: 0.0792 - val_dense_8_loss: 0.0955 - val_dense_9_loss: 0.0825\n",
      "Epoch 90/200\n",
      "3/3 [==============================] - 0s 16ms/step - loss: 0.3767 - dense_7_loss: 0.1138 - dense_8_loss: 0.1343 - dense_9_loss: 0.1287 - val_loss: 0.2568 - val_dense_7_loss: 0.0790 - val_dense_8_loss: 0.0954 - val_dense_9_loss: 0.0824\n",
      "Epoch 91/200\n",
      "3/3 [==============================] - 0s 16ms/step - loss: 0.3716 - dense_7_loss: 0.1111 - dense_8_loss: 0.1321 - dense_9_loss: 0.1283 - val_loss: 0.2563 - val_dense_7_loss: 0.0789 - val_dense_8_loss: 0.0951 - val_dense_9_loss: 0.0823\n",
      "Epoch 92/200\n",
      "3/3 [==============================] - 0s 16ms/step - loss: 0.3775 - dense_7_loss: 0.1137 - dense_8_loss: 0.1328 - dense_9_loss: 0.1310 - val_loss: 0.2560 - val_dense_7_loss: 0.0788 - val_dense_8_loss: 0.0950 - val_dense_9_loss: 0.0822\n",
      "Epoch 93/200\n",
      "3/3 [==============================] - 0s 16ms/step - loss: 0.3648 - dense_7_loss: 0.1104 - dense_8_loss: 0.1289 - dense_9_loss: 0.1256 - val_loss: 0.2560 - val_dense_7_loss: 0.0787 - val_dense_8_loss: 0.0951 - val_dense_9_loss: 0.0822\n",
      "Epoch 94/200\n",
      "3/3 [==============================] - 0s 16ms/step - loss: 0.3655 - dense_7_loss: 0.1099 - dense_8_loss: 0.1303 - dense_9_loss: 0.1253 - val_loss: 0.2562 - val_dense_7_loss: 0.0785 - val_dense_8_loss: 0.0954 - val_dense_9_loss: 0.0822\n",
      "Epoch 95/200\n",
      "3/3 [==============================] - 0s 16ms/step - loss: 0.3645 - dense_7_loss: 0.1098 - dense_8_loss: 0.1279 - dense_9_loss: 0.1268 - val_loss: 0.2564 - val_dense_7_loss: 0.0785 - val_dense_8_loss: 0.0956 - val_dense_9_loss: 0.0823\n",
      "Epoch 96/200\n",
      "3/3 [==============================] - 0s 17ms/step - loss: 0.3620 - dense_7_loss: 0.1092 - dense_8_loss: 0.1290 - dense_9_loss: 0.1237 - val_loss: 0.2559 - val_dense_7_loss: 0.0785 - val_dense_8_loss: 0.0954 - val_dense_9_loss: 0.0820\n",
      "Epoch 97/200\n",
      "3/3 [==============================] - 0s 16ms/step - loss: 0.3628 - dense_7_loss: 0.1099 - dense_8_loss: 0.1278 - dense_9_loss: 0.1251 - val_loss: 0.2556 - val_dense_7_loss: 0.0784 - val_dense_8_loss: 0.0952 - val_dense_9_loss: 0.0820\n",
      "Epoch 98/200\n",
      "3/3 [==============================] - 0s 16ms/step - loss: 0.3581 - dense_7_loss: 0.1075 - dense_8_loss: 0.1278 - dense_9_loss: 0.1228 - val_loss: 0.2552 - val_dense_7_loss: 0.0784 - val_dense_8_loss: 0.0948 - val_dense_9_loss: 0.0819\n",
      "Epoch 99/200\n",
      "3/3 [==============================] - 0s 16ms/step - loss: 0.3591 - dense_7_loss: 0.1078 - dense_8_loss: 0.1272 - dense_9_loss: 0.1242 - val_loss: 0.2545 - val_dense_7_loss: 0.0783 - val_dense_8_loss: 0.0945 - val_dense_9_loss: 0.0817\n",
      "Epoch 100/200\n",
      "3/3 [==============================] - 0s 16ms/step - loss: 0.3526 - dense_7_loss: 0.1057 - dense_8_loss: 0.1267 - dense_9_loss: 0.1202 - val_loss: 0.2537 - val_dense_7_loss: 0.0782 - val_dense_8_loss: 0.0941 - val_dense_9_loss: 0.0815\n",
      "Epoch 101/200\n",
      "3/3 [==============================] - 0s 16ms/step - loss: 0.3454 - dense_7_loss: 0.1036 - dense_8_loss: 0.1233 - dense_9_loss: 0.1186 - val_loss: 0.2537 - val_dense_7_loss: 0.0779 - val_dense_8_loss: 0.0942 - val_dense_9_loss: 0.0816\n",
      "Epoch 102/200\n",
      "3/3 [==============================] - 0s 16ms/step - loss: 0.3530 - dense_7_loss: 0.1045 - dense_8_loss: 0.1259 - dense_9_loss: 0.1226 - val_loss: 0.2541 - val_dense_7_loss: 0.0777 - val_dense_8_loss: 0.0945 - val_dense_9_loss: 0.0820\n",
      "Epoch 103/200\n",
      "3/3 [==============================] - 0s 16ms/step - loss: 0.3456 - dense_7_loss: 0.1030 - dense_8_loss: 0.1216 - dense_9_loss: 0.1210 - val_loss: 0.2538 - val_dense_7_loss: 0.0775 - val_dense_8_loss: 0.0946 - val_dense_9_loss: 0.0817\n",
      "Epoch 104/200\n",
      "3/3 [==============================] - 0s 16ms/step - loss: 0.3497 - dense_7_loss: 0.1049 - dense_8_loss: 0.1247 - dense_9_loss: 0.1201 - val_loss: 0.2530 - val_dense_7_loss: 0.0774 - val_dense_8_loss: 0.0944 - val_dense_9_loss: 0.0812\n",
      "Epoch 105/200\n",
      "3/3 [==============================] - 0s 16ms/step - loss: 0.3436 - dense_7_loss: 0.1032 - dense_8_loss: 0.1223 - dense_9_loss: 0.1181 - val_loss: 0.2524 - val_dense_7_loss: 0.0774 - val_dense_8_loss: 0.0942 - val_dense_9_loss: 0.0808\n",
      "Epoch 106/200\n",
      "3/3 [==============================] - 0s 16ms/step - loss: 0.3404 - dense_7_loss: 0.1020 - dense_8_loss: 0.1206 - dense_9_loss: 0.1178 - val_loss: 0.2525 - val_dense_7_loss: 0.0773 - val_dense_8_loss: 0.0942 - val_dense_9_loss: 0.0809\n",
      "Epoch 107/200\n",
      "3/3 [==============================] - 0s 16ms/step - loss: 0.3419 - dense_7_loss: 0.1022 - dense_8_loss: 0.1232 - dense_9_loss: 0.1165 - val_loss: 0.2523 - val_dense_7_loss: 0.0773 - val_dense_8_loss: 0.0941 - val_dense_9_loss: 0.0809\n",
      "Epoch 108/200\n",
      "3/3 [==============================] - 0s 16ms/step - loss: 0.3383 - dense_7_loss: 0.1009 - dense_8_loss: 0.1220 - dense_9_loss: 0.1155 - val_loss: 0.2520 - val_dense_7_loss: 0.0771 - val_dense_8_loss: 0.0938 - val_dense_9_loss: 0.0811\n",
      "Epoch 109/200\n",
      "3/3 [==============================] - 0s 16ms/step - loss: 0.3381 - dense_7_loss: 0.1000 - dense_8_loss: 0.1195 - dense_9_loss: 0.1186 - val_loss: 0.2518 - val_dense_7_loss: 0.0770 - val_dense_8_loss: 0.0936 - val_dense_9_loss: 0.0812\n",
      "Epoch 110/200\n",
      "3/3 [==============================] - 0s 16ms/step - loss: 0.3344 - dense_7_loss: 0.1000 - dense_8_loss: 0.1190 - dense_9_loss: 0.1154 - val_loss: 0.2516 - val_dense_7_loss: 0.0770 - val_dense_8_loss: 0.0936 - val_dense_9_loss: 0.0810\n",
      "Epoch 111/200\n",
      "3/3 [==============================] - 0s 16ms/step - loss: 0.3301 - dense_7_loss: 0.1002 - dense_8_loss: 0.1167 - dense_9_loss: 0.1131 - val_loss: 0.2516 - val_dense_7_loss: 0.0769 - val_dense_8_loss: 0.0937 - val_dense_9_loss: 0.0810\n",
      "Epoch 112/200\n",
      "3/3 [==============================] - 0s 16ms/step - loss: 0.3373 - dense_7_loss: 0.1007 - dense_8_loss: 0.1209 - dense_9_loss: 0.1157 - val_loss: 0.2516 - val_dense_7_loss: 0.0769 - val_dense_8_loss: 0.0937 - val_dense_9_loss: 0.0809\n",
      "Epoch 113/200\n",
      "3/3 [==============================] - 0s 16ms/step - loss: 0.3325 - dense_7_loss: 0.0998 - dense_8_loss: 0.1191 - dense_9_loss: 0.1136 - val_loss: 0.2513 - val_dense_7_loss: 0.0768 - val_dense_8_loss: 0.0935 - val_dense_9_loss: 0.0809\n",
      "Epoch 114/200\n",
      "3/3 [==============================] - 0s 16ms/step - loss: 0.3337 - dense_7_loss: 0.0981 - dense_8_loss: 0.1200 - dense_9_loss: 0.1156 - val_loss: 0.2505 - val_dense_7_loss: 0.0767 - val_dense_8_loss: 0.0931 - val_dense_9_loss: 0.0807\n",
      "Epoch 115/200\n",
      "3/3 [==============================] - 0s 16ms/step - loss: 0.3256 - dense_7_loss: 0.0972 - dense_8_loss: 0.1170 - dense_9_loss: 0.1114 - val_loss: 0.2503 - val_dense_7_loss: 0.0767 - val_dense_8_loss: 0.0930 - val_dense_9_loss: 0.0807\n",
      "Epoch 116/200\n",
      "3/3 [==============================] - 0s 16ms/step - loss: 0.3205 - dense_7_loss: 0.0953 - dense_8_loss: 0.1136 - dense_9_loss: 0.1116 - val_loss: 0.2511 - val_dense_7_loss: 0.0769 - val_dense_8_loss: 0.0933 - val_dense_9_loss: 0.0809\n",
      "Epoch 117/200\n",
      "3/3 [==============================] - 0s 16ms/step - loss: 0.3227 - dense_7_loss: 0.0967 - dense_8_loss: 0.1143 - dense_9_loss: 0.1117 - val_loss: 0.2522 - val_dense_7_loss: 0.0769 - val_dense_8_loss: 0.0939 - val_dense_9_loss: 0.0814\n",
      "Epoch 118/200\n",
      "3/3 [==============================] - 0s 16ms/step - loss: 0.3246 - dense_7_loss: 0.0964 - dense_8_loss: 0.1178 - dense_9_loss: 0.1103 - val_loss: 0.2519 - val_dense_7_loss: 0.0766 - val_dense_8_loss: 0.0939 - val_dense_9_loss: 0.0813\n",
      "Epoch 119/200\n",
      "3/3 [==============================] - 0s 16ms/step - loss: 0.3174 - dense_7_loss: 0.0950 - dense_8_loss: 0.1138 - dense_9_loss: 0.1086 - val_loss: 0.2512 - val_dense_7_loss: 0.0766 - val_dense_8_loss: 0.0935 - val_dense_9_loss: 0.0812\n",
      "Epoch 120/200\n",
      "3/3 [==============================] - 0s 16ms/step - loss: 0.3195 - dense_7_loss: 0.0951 - dense_8_loss: 0.1148 - dense_9_loss: 0.1097 - val_loss: 0.2499 - val_dense_7_loss: 0.0764 - val_dense_8_loss: 0.0930 - val_dense_9_loss: 0.0805\n",
      "Epoch 121/200\n",
      "3/3 [==============================] - 0s 16ms/step - loss: 0.3194 - dense_7_loss: 0.0944 - dense_8_loss: 0.1134 - dense_9_loss: 0.1116 - val_loss: 0.2489 - val_dense_7_loss: 0.0762 - val_dense_8_loss: 0.0928 - val_dense_9_loss: 0.0799\n",
      "Epoch 122/200\n",
      "3/3 [==============================] - 0s 16ms/step - loss: 0.3143 - dense_7_loss: 0.0933 - dense_8_loss: 0.1110 - dense_9_loss: 0.1100 - val_loss: 0.2486 - val_dense_7_loss: 0.0761 - val_dense_8_loss: 0.0930 - val_dense_9_loss: 0.0795\n",
      "Epoch 123/200\n",
      "3/3 [==============================] - 0s 16ms/step - loss: 0.3200 - dense_7_loss: 0.0957 - dense_8_loss: 0.1135 - dense_9_loss: 0.1108 - val_loss: 0.2488 - val_dense_7_loss: 0.0760 - val_dense_8_loss: 0.0932 - val_dense_9_loss: 0.0796\n",
      "Epoch 124/200\n",
      "3/3 [==============================] - 0s 16ms/step - loss: 0.3110 - dense_7_loss: 0.0933 - dense_8_loss: 0.1103 - dense_9_loss: 0.1075 - val_loss: 0.2496 - val_dense_7_loss: 0.0760 - val_dense_8_loss: 0.0934 - val_dense_9_loss: 0.0803\n",
      "Epoch 125/200\n",
      "3/3 [==============================] - 0s 16ms/step - loss: 0.3124 - dense_7_loss: 0.0931 - dense_8_loss: 0.1111 - dense_9_loss: 0.1082 - val_loss: 0.2504 - val_dense_7_loss: 0.0759 - val_dense_8_loss: 0.0932 - val_dense_9_loss: 0.0812\n",
      "Epoch 126/200\n",
      "3/3 [==============================] - 0s 16ms/step - loss: 0.3149 - dense_7_loss: 0.0971 - dense_8_loss: 0.1104 - dense_9_loss: 0.1074 - val_loss: 0.2504 - val_dense_7_loss: 0.0758 - val_dense_8_loss: 0.0929 - val_dense_9_loss: 0.0817\n",
      "Epoch 127/200\n",
      "3/3 [==============================] - 0s 16ms/step - loss: 0.3063 - dense_7_loss: 0.0916 - dense_8_loss: 0.1093 - dense_9_loss: 0.1054 - val_loss: 0.2498 - val_dense_7_loss: 0.0757 - val_dense_8_loss: 0.0927 - val_dense_9_loss: 0.0813\n",
      "Stopped fitting after 127 epochs\n",
      "Saved model to disk in /tmp/tmpv21tf2p7\n"
     ]
    },
    {
     "data": {
      "text/plain": [
       "<deepimpute.multinet.MultiNet at 0x7f40d2346a00>"
      ]
     },
     "execution_count": 164,
     "metadata": {},
     "output_type": "execute_result"
    }
   ],
   "source": [
    "# Using 200 cells (randomly selected)\n",
    "#multinet.fit(data,cell_subset=200)"
   ]
  },
  {
   "cell_type": "code",
   "execution_count": 12,
   "metadata": {
    "tags": []
   },
   "outputs": [],
   "source": [
    "# Custom fit\n",
    "#trainingData = data.iloc[100:250,:]\n",
    "#multinet.fit(trainingData)"
   ]
  },
  {
   "cell_type": "markdown",
   "metadata": {},
   "source": [
    "## Imputation\n",
    "\n",
    "The imputation can be done on any dataset as long as the gene labels are the same"
   ]
  },
  {
   "cell_type": "code",
   "execution_count": 198,
   "metadata": {},
   "outputs": [
    {
     "name": "stdout",
     "output_type": "stream",
     "text": [
      "Filling zeros\n"
     ]
    }
   ],
   "source": [
    "imputedData = multinet.predict(data)"
   ]
  },
  {
   "cell_type": "markdown",
   "metadata": {
    "tags": []
   },
   "source": [
    "## Visualization"
   ]
  },
  {
   "cell_type": "code",
   "execution_count": 199,
   "metadata": {
    "tags": []
   },
   "outputs": [
    {
     "data": {
      "text/plain": [
       "Text(0, 0.5, 'Imputed Data')"
      ]
     },
     "execution_count": 199,
     "metadata": {},
     "output_type": "execute_result"
    },
    {
     "data": {
      "image/png": "[encoded data removed]",
      "text/plain": [
       "<Figure size 432x288 with 1 Axes>"
      ]
     },
     "metadata": {
      "needs_background": "light"
     },
     "output_type": "display_data"
    }
   ],
   "source": [
    "import matplotlib.pyplot as plt\n",
    "import numpy as np\n",
    "%matplotlib inline\n",
    "\n",
    "limits = [0,100]\n",
    "\n",
    "fig,ax = plt.subplots()\n",
    "\n",
    "jitter = np.random.normal(0,1,data.size) # Add some jittering to better see the point density\n",
    "ax.scatter(data.values.flatten()+jitter,imputedData.values.flatten(),s=2)\n",
    "ax.plot(limits,limits,'r-.',linewidth=2)\n",
    "ax.set_xlim(limits)\n",
    "ax.set_ylim(limits)\n",
    "ax.set_xlabel(\"Raw Data\", size=14)\n",
    "ax.set_ylabel(\"Imputed Data\", size=14)\n"
   ]
  },
  {
   "cell_type": "markdown",
   "metadata": {
    "tags": []
   },
   "source": [
    "## Scoring\n",
    "Display training metrics (MSE and Pearson's correlation on the test data)"
   ]
  },
  {
   "cell_type": "code",
   "execution_count": 210,
   "metadata": {},
   "outputs": [
    {
     "data": {
      "text/plain": [
       "{'correlation': 0.881067366162446, 'MSE': 0.12226351909623386}"
      ]
     },
     "execution_count": 210,
     "metadata": {},
     "output_type": "execute_result"
    }
   ],
   "source": [
    "multinet.test_metrics"
   ]
  },
  {
   "cell_type": "code",
   "execution_count": 211,
   "metadata": {},
   "outputs": [
    {
     "data": {
      "image/png": "[encoded data removed]",
      "text/plain": [
       "<Figure size 720x288 with 2 Axes>"
      ]
     },
     "metadata": {
      "needs_background": "light"
     },
     "output_type": "display_data"
    }
   ],
   "source": [
    "\n",
    "fig, axes = plt.subplots(nrows=1, ncols=2, figsize=(10, 4))\n",
    "fig.suptitle('IL6-IL6ST expression')\n",
    "\n",
    "axes[0].hist(data['IL6ST'],bins=100, label=\"IL6ST\")\n",
    "axes[1].hist(imputedData['IL6ST'],bins=100, label=\"IL6ST\")\n",
    "fig.tight_layout()"
   ]
  },
  {
   "cell_type": "code",
   "execution_count": 212,
   "metadata": {},
   "outputs": [
    {
     "data": {
      "text/plain": [
       "(-1.0, 10.0)"
      ]
     },
     "execution_count": 212,
     "metadata": {},
     "output_type": "execute_result"
    },
    {
     "data": {
      "image/png": "[encoded data removed]",
      "text/plain": [
       "<Figure size 576x432 with 1 Axes>"
      ]
     },
     "metadata": {
      "needs_background": "light"
     },
     "output_type": "display_data"
    }
   ],
   "source": [
    "plt.figure(figsize=(8,6))\n",
    "plt.hist(data['IL6ST'], bins=100, alpha=0.5, label=\"Raw\")\n",
    "plt.hist(imputedData['IL6ST'], bins=100, alpha=0.5, label=\"Imputed\")\n",
    "plt.xlabel(\"Data\", size=14)\n",
    "plt.ylabel(\"Count\", size=14)\n",
    "plt.title(\"GP130 - IL6ST gene\")\n",
    "plt.legend(loc='upper right')\n",
    "plt.xlim(-1, 10)"
   ]
  },
  {
   "cell_type": "code",
   "execution_count": 213,
   "metadata": {},
   "outputs": [
    {
     "data": {
      "text/plain": [
       "(-1.0, 10.0)"
      ]
     },
     "execution_count": 213,
     "metadata": {},
     "output_type": "execute_result"
    },
    {
     "data": {
      "image/png": "[encoded data removed]",
      "text/plain": [
       "<Figure size 576x432 with 1 Axes>"
      ]
     },
     "metadata": {
      "needs_background": "light"
     },
     "output_type": "display_data"
    }
   ],
   "source": [
    "plt.figure(figsize=(8,6))\n",
    "plt.hist(data['IL11'], bins=100, alpha=0.5, label=\"Raw\")\n",
    "plt.hist(imputedData['IL11'], bins=100, alpha=0.5, label=\"Imputed\")\n",
    "plt.xlabel(\"Data\", size=14)\n",
    "plt.ylabel(\"Count\", size=14)\n",
    "plt.title(\"IL11 gene\")\n",
    "plt.legend(loc='upper right')\n",
    "plt.xlim(-1, 10)"
   ]
  },
  {
   "cell_type": "code",
   "execution_count": 216,
   "metadata": {},
   "outputs": [
    {
     "data": {
      "text/plain": [
       "(-1.0, 10.0)"
      ]
     },
     "execution_count": 216,
     "metadata": {},
     "output_type": "execute_result"
    },
    {
     "data": {
      "image/png": "[encoded data removed]",
      "text/plain": [
       "<Figure size 576x432 with 1 Axes>"
      ]
     },
     "metadata": {
      "needs_background": "light"
     },
     "output_type": "display_data"
    }
   ],
   "source": [
    "plt.figure(figsize=(8,6))\n",
    "plt.hist(data['THY1'], bins=100, alpha=0.5, label=\"Raw\")\n",
    "plt.hist(imputedData['THY1'], bins=100, alpha=0.5, label=\"Imputed\")\n",
    "plt.xlabel(\"Data\", size=14)\n",
    "plt.ylabel(\"Count\", size=14)\n",
    "plt.title(\"THY1 gene\")\n",
    "plt.legend(loc='upper right')\n",
    "plt.xlim(-1, 10)"
   ]
  },
  {
   "cell_type": "code",
   "execution_count": 214,
   "metadata": {},
   "outputs": [
    {
     "data": {
      "text/plain": [
       "Text(0.5, 1.0, 'IL11')"
      ]
     },
     "execution_count": 214,
     "metadata": {},
     "output_type": "execute_result"
    },
    {
     "data": {
      "image/png": "[encoded data removed]",
      "text/plain": [
       "<Figure size 1080x576 with 4 Axes>"
      ]
     },
     "metadata": {
      "needs_background": "light"
     },
     "output_type": "display_data"
    }
   ],
   "source": [
    "figure, axis = plt.subplots(2, 2,figsize=(15, 8))\n",
    "  \n",
    "axis[0, 0].scatter(data['IL6ST'], imputedData['IL6ST'])\n",
    "axis[0, 0].set_title(\"IL6ST\")\n",
    "  \n",
    "axis[0, 1].scatter(data['IL6'], imputedData['IL6'])\n",
    "axis[0, 1].set_title(\"IL6\")\n",
    "  \n",
    "axis[1, 0].scatter(data['IL11RA'], imputedData['IL11RA'])\n",
    "axis[1, 0].set_title(\"IL11RA\")\n",
    "  \n",
    "axis[1, 1].scatter(data['IL11'], imputedData['IL11'])\n",
    "axis[1, 1].set_title(\"IL11\")"
   ]
  },
  {
   "cell_type": "code",
   "execution_count": 205,
   "metadata": {},
   "outputs": [
    {
     "data": {
      "text/plain": [
       "deepimpute.multinet.MultiNet"
      ]
     },
     "execution_count": 205,
     "metadata": {},
     "output_type": "execute_result"
    }
   ],
   "source": [
    "# Save model\n",
    "import json\n",
    "#output='smillie_deepImpute.json'\n",
    "type(multinet)"
   ]
  },
  {
   "cell_type": "code",
   "execution_count": 206,
   "metadata": {},
   "outputs": [
    {
     "ename": "OSError",
     "evalue": "No file or directory found at smillie_deepImpute.json",
     "output_type": "error",
     "traceback": [
      "\u001b[0;31m---------------------------------------------------------------------------\u001b[0m",
      "\u001b[0;31mOSError\u001b[0m                                   Traceback (most recent call last)",
      "\u001b[0;32m<ipython-input-206-6a7d05a1a341>\u001b[0m in \u001b[0;36m<module>\u001b[0;34m\u001b[0m\n\u001b[1;32m      1\u001b[0m \u001b[0;32mfrom\u001b[0m \u001b[0mkeras\u001b[0m\u001b[0;34m.\u001b[0m\u001b[0mmodels\u001b[0m \u001b[0;32mimport\u001b[0m \u001b[0mload_model\u001b[0m\u001b[0;34m\u001b[0m\u001b[0;34m\u001b[0m\u001b[0m\n\u001b[0;32m----> 2\u001b[0;31m \u001b[0mload\u001b[0m\u001b[0;34m=\u001b[0m\u001b[0mload_model\u001b[0m\u001b[0;34m(\u001b[0m\u001b[0moutput\u001b[0m\u001b[0;34m)\u001b[0m\u001b[0;34m\u001b[0m\u001b[0;34m\u001b[0m\u001b[0m\n\u001b[0m",
      "\u001b[0;32m~/.local/lib/python3.9/site-packages/keras/utils/traceback_utils.py\u001b[0m in \u001b[0;36merror_handler\u001b[0;34m(*args, **kwargs)\u001b[0m\n\u001b[1;32m     65\u001b[0m     \u001b[0;32mexcept\u001b[0m \u001b[0mException\u001b[0m \u001b[0;32mas\u001b[0m \u001b[0me\u001b[0m\u001b[0;34m:\u001b[0m  \u001b[0;31m# pylint: disable=broad-except\u001b[0m\u001b[0;34m\u001b[0m\u001b[0;34m\u001b[0m\u001b[0m\n\u001b[1;32m     66\u001b[0m       \u001b[0mfiltered_tb\u001b[0m \u001b[0;34m=\u001b[0m \u001b[0m_process_traceback_frames\u001b[0m\u001b[0;34m(\u001b[0m\u001b[0me\u001b[0m\u001b[0;34m.\u001b[0m\u001b[0m__traceback__\u001b[0m\u001b[0;34m)\u001b[0m\u001b[0;34m\u001b[0m\u001b[0;34m\u001b[0m\u001b[0m\n\u001b[0;32m---> 67\u001b[0;31m       \u001b[0;32mraise\u001b[0m \u001b[0me\u001b[0m\u001b[0;34m.\u001b[0m\u001b[0mwith_traceback\u001b[0m\u001b[0;34m(\u001b[0m\u001b[0mfiltered_tb\u001b[0m\u001b[0;34m)\u001b[0m \u001b[0;32mfrom\u001b[0m \u001b[0;32mNone\u001b[0m\u001b[0;34m\u001b[0m\u001b[0;34m\u001b[0m\u001b[0m\n\u001b[0m\u001b[1;32m     68\u001b[0m     \u001b[0;32mfinally\u001b[0m\u001b[0;34m:\u001b[0m\u001b[0;34m\u001b[0m\u001b[0;34m\u001b[0m\u001b[0m\n\u001b[1;32m     69\u001b[0m       \u001b[0;32mdel\u001b[0m \u001b[0mfiltered_tb\u001b[0m\u001b[0;34m\u001b[0m\u001b[0;34m\u001b[0m\u001b[0m\n",
      "\u001b[0;32m~/.local/lib/python3.9/site-packages/keras/saving/save.py\u001b[0m in \u001b[0;36mload_model\u001b[0;34m(filepath, custom_objects, compile, options)\u001b[0m\n\u001b[1;32m    202\u001b[0m         \u001b[0;32mif\u001b[0m \u001b[0misinstance\u001b[0m\u001b[0;34m(\u001b[0m\u001b[0mfilepath_str\u001b[0m\u001b[0;34m,\u001b[0m \u001b[0mstr\u001b[0m\u001b[0;34m)\u001b[0m\u001b[0;34m:\u001b[0m\u001b[0;34m\u001b[0m\u001b[0;34m\u001b[0m\u001b[0m\n\u001b[1;32m    203\u001b[0m           \u001b[0;32mif\u001b[0m \u001b[0;32mnot\u001b[0m \u001b[0mtf\u001b[0m\u001b[0;34m.\u001b[0m\u001b[0mio\u001b[0m\u001b[0;34m.\u001b[0m\u001b[0mgfile\u001b[0m\u001b[0;34m.\u001b[0m\u001b[0mexists\u001b[0m\u001b[0;34m(\u001b[0m\u001b[0mfilepath_str\u001b[0m\u001b[0;34m)\u001b[0m\u001b[0;34m:\u001b[0m\u001b[0;34m\u001b[0m\u001b[0;34m\u001b[0m\u001b[0m\n\u001b[0;32m--> 204\u001b[0;31m             \u001b[0;32mraise\u001b[0m \u001b[0mIOError\u001b[0m\u001b[0;34m(\u001b[0m\u001b[0;34mf'No file or directory found at {filepath_str}'\u001b[0m\u001b[0;34m)\u001b[0m\u001b[0;34m\u001b[0m\u001b[0;34m\u001b[0m\u001b[0m\n\u001b[0m\u001b[1;32m    205\u001b[0m \u001b[0;34m\u001b[0m\u001b[0m\n\u001b[1;32m    206\u001b[0m           \u001b[0;32mif\u001b[0m \u001b[0mtf\u001b[0m\u001b[0;34m.\u001b[0m\u001b[0mio\u001b[0m\u001b[0;34m.\u001b[0m\u001b[0mgfile\u001b[0m\u001b[0;34m.\u001b[0m\u001b[0misdir\u001b[0m\u001b[0;34m(\u001b[0m\u001b[0mfilepath_str\u001b[0m\u001b[0;34m)\u001b[0m\u001b[0;34m:\u001b[0m\u001b[0;34m\u001b[0m\u001b[0;34m\u001b[0m\u001b[0m\n",
      "\u001b[0;31mOSError\u001b[0m: No file or directory found at smillie_deepImpute.json"
     ]
    }
   ],
   "source": [
    "from keras.models import load_model\n",
    "load=load_model(output)"
   ]
  },
  {
   "cell_type": "code",
   "execution_count": 207,
   "metadata": {},
   "outputs": [
    {
     "data": {
      "text/plain": [
       "['test.csv',\n",
       " 'smillie_deepimpute.ipynb',\n",
       " '.ipynb_checkpoints',\n",
       " 'notebook_example.ipynb']"
      ]
     },
     "execution_count": 207,
     "metadata": {},
     "output_type": "execute_result"
    }
   ],
   "source": [
    "import os\n",
    "os.listdir('.')"
   ]
  },
  {
   "cell_type": "code",
   "execution_count": 215,
   "metadata": {},
   "outputs": [],
   "source": [
    "imputedData.to_csv(\"~/CCI/cellphoneDB/smillie_ibd/smillie_fibs_raw_counts_imputed.tsv\", sep=\"\\t\")"
   ]
  },
  {
   "cell_type": "code",
   "execution_count": 79,
   "metadata": {},
   "outputs": [
    {
     "data": {
      "text/plain": [
       "24193"
      ]
     },
     "execution_count": 79,
     "metadata": {},
     "output_type": "execute_result"
    }
   ],
   "source": [
    "(imputedData.A1BG==0).sum()"
   ]
  },
  {
   "cell_type": "code",
   "execution_count": 100,
   "metadata": {},
   "outputs": [
    {
     "data": {
      "text/plain": [
       "False    24290\n",
       "Name: IL11RA, dtype: int64"
      ]
     },
     "execution_count": 100,
     "metadata": {},
     "output_type": "execute_result"
    }
   ],
   "source": [
    "imputedData['IL11RA'].isna().value_counts()"
   ]
  },
  {
   "cell_type": "code",
   "execution_count": 101,
   "metadata": {
    "jupyter": {
     "source_hidden": true
    },
    "tags": []
   },
   "outputs": [
    {
     "data": {
      "text/plain": [
       "24290"
      ]
     },
     "execution_count": 101,
     "metadata": {},
     "output_type": "execute_result"
    }
   ],
   "source": [
    "data['CCL11'].count()"
   ]
  },
  {
   "cell_type": "code",
   "execution_count": 102,
   "metadata": {},
   "outputs": [
    {
     "data": {
      "image/png": "[encoded data removed]",
      "text/plain": [
       "<Figure size 720x288 with 2 Axes>"
      ]
     },
     "metadata": {
      "needs_background": "light"
     },
     "output_type": "display_data"
    }
   ],
   "source": [
    "fig, axes = plt.subplots(nrows=1, ncols=2, figsize=(10, 4))\n",
    "fig.suptitle('CCL11 expression')\n",
    "\n",
    "axes[0].hist(data['CCL11'],bins=100, label=\"CCL11\")\n",
    "axes[1].hist(imputedData['CCL11'],bins=100, label=\"CCL11\")\n",
    "fig.tight_layout()"
   ]
  },
  {
   "cell_type": "code",
   "execution_count": 172,
   "metadata": {},
   "outputs": [],
   "source": [
    "def plot_hist_scatter(gene):\n",
    "    fig, axes = plt.subplots(nrows=2, ncols=2, figsize=(10, 4))\n",
    "    fig.suptitle(gene + \" - \" + \"gene expression\")\n",
    "\n",
    "    axes[0,0].hist(data[gene],bins=100, label=str(gene))\n",
    "    axes[0,0].set_title('Raw')\n",
    "    axes[0,1].hist(imputedData[gene],bins=100, label=gene)\n",
    "    axes[0,1].set_title('Imputed')\n",
    "    axes[1,0].scatter(data[gene], imputedData[gene])\n",
    "    axes[1,0].set_xlabel('Raw')\n",
    "    axes[1,0].set_ylabel('Imputed')\n",
    "    axes[1,1].hist(imputedData[gene],bins=100, label=gene)\n",
    "    fig.tight_layout()"
   ]
  },
  {
   "cell_type": "code",
   "execution_count": 173,
   "metadata": {},
   "outputs": [
    {
     "data": {
      "image/png": "[encoded data removed]",
      "text/plain": [
       "<Figure size 720x288 with 4 Axes>"
      ]
     },
     "metadata": {
      "needs_background": "light"
     },
     "output_type": "display_data"
    }
   ],
   "source": [
    "plot_hist_scatter(gene='CCL11')"
   ]
  },
  {
   "cell_type": "code",
   "execution_count": 159,
   "metadata": {},
   "outputs": [
    {
     "name": "stdout",
     "output_type": "stream",
     "text": [
      "'' was not found in history, as a file, url, nor in the user namespace.\n"
     ]
    }
   ],
   "source": []
  },
  {
   "cell_type": "code",
   "execution_count": null,
   "metadata": {},
   "outputs": [],
   "source": []
  }
 ],
 "metadata": {
  "kernelspec": {
   "display_name": "Python 3",
   "language": "python",
   "name": "python3"
  },
  "language_info": {
   "codemirror_mode": {
    "name": "ipython",
    "version": 3
   },
   "file_extension": ".py",
   "mimetype": "text/x-python",
   "name": "python",
   "nbconvert_exporter": "python",
   "pygments_lexer": "ipython3",
   "version": "3.9.5"
  },
  "toc-autonumbering": false
 },
 "nbformat": 4,
 "nbformat_minor": 4
}
